{
 "cells": [
  {
   "cell_type": "code",
   "execution_count": 15,
   "id": "3cd0e0c2-0d2c-43cb-b88f-de2c253db8b2",
   "metadata": {},
   "outputs": [
    {
     "name": "stdout",
     "output_type": "stream",
     "text": [
      "Requirement already satisfied: pandas in c:\\users\\daniel espitia\\appdata\\local\\programs\\python\\python313\\lib\\site-packages (2.3.0)\n",
      "Requirement already satisfied: docxtpl in c:\\users\\daniel espitia\\appdata\\local\\programs\\python\\python313\\lib\\site-packages (0.20.1)\n",
      "Requirement already satisfied: openpyxl in c:\\users\\daniel espitia\\appdata\\local\\programs\\python\\python313\\lib\\site-packages (3.1.5)\n",
      "Requirement already satisfied: gTTS in c:\\users\\daniel espitia\\appdata\\local\\programs\\python\\python313\\lib\\site-packages (2.5.4)\n",
      "Requirement already satisfied: numpy>=1.26.0 in c:\\users\\daniel espitia\\appdata\\local\\programs\\python\\python313\\lib\\site-packages (from pandas) (2.3.1)\n",
      "Requirement already satisfied: python-dateutil>=2.8.2 in c:\\users\\daniel espitia\\appdata\\local\\programs\\python\\python313\\lib\\site-packages (from pandas) (2.9.0.post0)\n",
      "Requirement already satisfied: pytz>=2020.1 in c:\\users\\daniel espitia\\appdata\\local\\programs\\python\\python313\\lib\\site-packages (from pandas) (2025.2)\n",
      "Requirement already satisfied: tzdata>=2022.7 in c:\\users\\daniel espitia\\appdata\\local\\programs\\python\\python313\\lib\\site-packages (from pandas) (2025.2)\n",
      "Requirement already satisfied: python-docx>=1.1.1 in c:\\users\\daniel espitia\\appdata\\local\\programs\\python\\python313\\lib\\site-packages (from docxtpl) (1.2.0)\n",
      "Requirement already satisfied: docxcompose in c:\\users\\daniel espitia\\appdata\\local\\programs\\python\\python313\\lib\\site-packages (from docxtpl) (1.4.0)\n",
      "Requirement already satisfied: jinja2 in c:\\users\\daniel espitia\\appdata\\local\\programs\\python\\python313\\lib\\site-packages (from docxtpl) (3.1.6)\n",
      "Requirement already satisfied: lxml in c:\\users\\daniel espitia\\appdata\\local\\programs\\python\\python313\\lib\\site-packages (from docxtpl) (6.0.0)\n",
      "Requirement already satisfied: et-xmlfile in c:\\users\\daniel espitia\\appdata\\local\\programs\\python\\python313\\lib\\site-packages (from openpyxl) (2.0.0)\n",
      "Requirement already satisfied: requests<3,>=2.27 in c:\\users\\daniel espitia\\appdata\\local\\programs\\python\\python313\\lib\\site-packages (from gTTS) (2.32.4)\n",
      "Requirement already satisfied: click<8.2,>=7.1 in c:\\users\\daniel espitia\\appdata\\local\\programs\\python\\python313\\lib\\site-packages (from gTTS) (8.1.8)\n",
      "Requirement already satisfied: colorama in c:\\users\\daniel espitia\\appdata\\local\\programs\\python\\python313\\lib\\site-packages (from click<8.2,>=7.1->gTTS) (0.4.6)\n",
      "Requirement already satisfied: six>=1.5 in c:\\users\\daniel espitia\\appdata\\local\\programs\\python\\python313\\lib\\site-packages (from python-dateutil>=2.8.2->pandas) (1.17.0)\n",
      "Requirement already satisfied: typing_extensions>=4.9.0 in c:\\users\\daniel espitia\\appdata\\local\\programs\\python\\python313\\lib\\site-packages (from python-docx>=1.1.1->docxtpl) (4.14.1)\n",
      "Requirement already satisfied: charset_normalizer<4,>=2 in c:\\users\\daniel espitia\\appdata\\local\\programs\\python\\python313\\lib\\site-packages (from requests<3,>=2.27->gTTS) (3.4.2)\n",
      "Requirement already satisfied: idna<4,>=2.5 in c:\\users\\daniel espitia\\appdata\\local\\programs\\python\\python313\\lib\\site-packages (from requests<3,>=2.27->gTTS) (3.10)\n",
      "Requirement already satisfied: urllib3<3,>=1.21.1 in c:\\users\\daniel espitia\\appdata\\local\\programs\\python\\python313\\lib\\site-packages (from requests<3,>=2.27->gTTS) (2.5.0)\n",
      "Requirement already satisfied: certifi>=2017.4.17 in c:\\users\\daniel espitia\\appdata\\local\\programs\\python\\python313\\lib\\site-packages (from requests<3,>=2.27->gTTS) (2025.6.15)\n",
      "Requirement already satisfied: setuptools in c:\\users\\daniel espitia\\appdata\\local\\programs\\python\\python313\\lib\\site-packages (from docxcompose->docxtpl) (80.9.0)\n",
      "Requirement already satisfied: babel in c:\\users\\daniel espitia\\appdata\\local\\programs\\python\\python313\\lib\\site-packages (from docxcompose->docxtpl) (2.17.0)\n",
      "Requirement already satisfied: MarkupSafe>=2.0 in c:\\users\\daniel espitia\\appdata\\local\\programs\\python\\python313\\lib\\site-packages (from jinja2->docxtpl) (3.0.2)\n",
      "Note: you may need to restart the kernel to use updated packages.\n"
     ]
    },
    {
     "name": "stderr",
     "output_type": "stream",
     "text": [
      "\n",
      "[notice] A new release of pip is available: 25.0.1 -> 25.1.1\n",
      "[notice] To update, run: python.exe -m pip install --upgrade pip\n"
     ]
    }
   ],
   "source": [
    "%pip install pandas docxtpl openpyxl gTTS "
   ]
  },
  {
   "cell_type": "code",
   "execution_count": 16,
   "id": "71ead98e-3193-4775-a945-f8050358c114",
   "metadata": {},
   "outputs": [],
   "source": [
    "import pandas as pd\n",
    "from docxtpl import DocxTemplate\n",
    "from datetime import datetime\n",
    "from gtts import gTTS\n",
    "import os\n",
    "import re"
   ]
  },
  {
   "cell_type": "code",
   "execution_count": 17,
   "id": "9cdae889-469c-4578-ae39-9cf890c92e45",
   "metadata": {},
   "outputs": [
    {
     "name": "stdout",
     "output_type": "stream",
     "text": [
      "Datos de guias de estudio cargados exitosamente\n",
      "                     Tema                                            Resumen  \\\n",
      "0           Python Básico  Introducción a la programación con Python, var...   \n",
      "1  Estructuras de Control  Aprende a usar condicionales (if/else) y bucle...   \n",
      "2     Funciones en Python  Define y utiliza funciones para organizar tu c...   \n",
      "\n",
      "                                   Palabras clave  \\\n",
      "0            Python, variables, datos, operadores   \n",
      "1     Condicionales, bucles, if, else, for, while   \n",
      "2  Funciones, def, return, argumentos, parámetros   \n",
      "\n",
      "                                          Ejercicios  \n",
      "0  1. Escribe un programa que sume dos números. 2...  \n",
      "1  1. Crea un programa que pida un número y diga ...  \n",
      "2  1. Escribe una función que reciba tu nombre y ...  \n"
     ]
    }
   ],
   "source": [
    "df_guias = pd.read_excel('Datos_Guias_Estudio.xlsx')\n",
    "print(\"Datos de guias de estudio cargados exitosamente\")\n",
    "print(df_guias.head())\n",
    "fecha_creacion = datetime.now().strftime(\"%d de %B de %y\")"
   ]
  },
  {
   "cell_type": "code",
   "execution_count": 18,
   "id": "bead3138-3189-407c-a8f4-e76640e410df",
   "metadata": {},
   "outputs": [
    {
     "name": "stdout",
     "output_type": "stream",
     "text": [
      "Variables Configuradas\n"
     ]
    }
   ],
   "source": [
    "print(\"Variables Configuradas\")"
   ]
  },
  {
   "cell_type": "code",
   "execution_count": 19,
   "id": "f180d084-6303-40ad-b824-42f1197a1642",
   "metadata": {},
   "outputs": [],
   "source": [
    "if not os.path.exists(\"Guais Generadas\"):\n",
    "    os.makedirs(\"Guias Generadas\")\n",
    "if not os.path.exists(\"Audios Guias\"):\n",
    "    os.makedirs(\"Audios Guias\")"
   ]
  },
  {
   "cell_type": "code",
   "execution_count": 20,
   "id": "bb2cc2e3-5188-4ed5-9b36-b4a92424b0ca",
   "metadata": {},
   "outputs": [
    {
     "name": "stdout",
     "output_type": "stream",
     "text": [
      "Documento Word para 'Python Básico' guardado como 'Guias Generadas\\Guia 1 Python Básico.docx'\n",
      "Documento Word para 'Estructuras de Control' guardado como 'Guias Generadas\\Guia 2 Estructuras de Control.docx'\n",
      "Documento Word para 'Funciones en Python' guardado como 'Guias Generadas\\Guia 3 Funciones en Python.docx'\n"
     ]
    }
   ],
   "source": [
    "for index, row in df_guias.iterrows():\n",
    "    doc = DocxTemplate(\"Guia_Estudio_Plantilla.docx\")\n",
    "\n",
    "    tema_actual = row['Tema']\n",
    "    resumen_actual = row['Resumen']\n",
    "    palabras_clave_del_csv = row['Palabras clave']\n",
    "    ejercicios_actual = row['Ejercicios']\n",
    "\n",
    "    context = {\n",
    "    'tema' : tema_actual,\n",
    "    'fecha_creacion' : fecha_creacion,\n",
    "    'resumen' : resumen_actual,\n",
    "    'palabras_clave' : palabras_clave_del_csv,\n",
    "    'ejercicios' : ejercicios_actual,\n",
    "    }\n",
    "\n",
    "    doc.render(context)\n",
    "    nombre_archivo_word = os.path.join(\"Guias Generadas\",F\"Guia {index +1} {tema_actual}.docx\")\n",
    "\n",
    "    doc.save(nombre_archivo_word)\n",
    "    print(f\"Documento Word para '{tema_actual}' guardado como '{nombre_archivo_word}'\")"
   ]
  },
  {
   "cell_type": "code",
   "execution_count": 21,
   "id": "86a2bf1d-49a0-412d-8671-4862326fe422",
   "metadata": {},
   "outputs": [
    {
     "name": "stdout",
     "output_type": "stream",
     "text": [
      "Audio para 'Python Básico' Generada correctamente.\n",
      "Audio para 'Estructuras de Control' Generada correctamente.\n",
      "Audio para 'Funciones en Python' Generada correctamente.\n"
     ]
    }
   ],
   "source": [
    "for index, row in df_guias.iterrows():\n",
    "    tema_actual = row['Tema']\n",
    "    resumen_actual = row['Resumen']\n",
    "    palabras_clave_del_csv = row['Palabras clave']\n",
    "\n",
    "    texto_para_audio = f\"Guia de estudio sobre {tema_actual}. Resumen: {resumen_actual}. Palabras clave: {palabras_clave_del_csv}.\"\n",
    "\n",
    "    tts = gTTS(text = texto_para_audio, lang = \"es\", slow = False)\n",
    "\n",
    "    nombre_archivo_audio = os.path.join(\"Audios Guias\",f\"Audio Guia {index +1} {tema_actual}.mp3\")\n",
    "\n",
    "    tts.save(nombre_archivo_audio)\n",
    "\n",
    "    print(f\"Audio para '{tema_actual}' Generada correctamente.\")\n",
    "    "
   ]
  }
 ],
 "metadata": {
  "kernelspec": {
   "display_name": "Python 3",
   "language": "python",
   "name": "python3"
  },
  "language_info": {
   "codemirror_mode": {
    "name": "ipython",
    "version": 3
   },
   "file_extension": ".py",
   "mimetype": "text/x-python",
   "name": "python",
   "nbconvert_exporter": "python",
   "pygments_lexer": "ipython3",
   "version": "3.13.2"
  }
 },
 "nbformat": 4,
 "nbformat_minor": 5
}
