{
 "cells": [
  {
   "cell_type": "code",
   "execution_count": 1,
   "id": "3ef0831f-09a7-471a-8278-60b9aabf7df9",
   "metadata": {},
   "outputs": [
    {
     "name": "stdout",
     "output_type": "stream",
     "text": [
      "Requirement already satisfied: docxtpl in c:\\users\\diestorn\\anaconda3\\lib\\site-packages (0.20.1)\n",
      "Requirement already satisfied: python-docx>=1.1.1 in c:\\users\\diestorn\\anaconda3\\lib\\site-packages (from docxtpl) (1.2.0)\n",
      "Requirement already satisfied: docxcompose in c:\\users\\diestorn\\anaconda3\\lib\\site-packages (from docxtpl) (1.4.0)\n",
      "Requirement already satisfied: jinja2 in c:\\users\\diestorn\\anaconda3\\lib\\site-packages (from docxtpl) (3.1.6)\n",
      "Requirement already satisfied: lxml in c:\\users\\diestorn\\anaconda3\\lib\\site-packages (from docxtpl) (5.3.0)\n",
      "Requirement already satisfied: typing_extensions>=4.9.0 in c:\\users\\diestorn\\anaconda3\\lib\\site-packages (from python-docx>=1.1.1->docxtpl) (4.12.2)\n",
      "Requirement already satisfied: setuptools in c:\\users\\diestorn\\anaconda3\\lib\\site-packages (from docxcompose->docxtpl) (72.1.0)\n",
      "Requirement already satisfied: six in c:\\users\\diestorn\\anaconda3\\lib\\site-packages (from docxcompose->docxtpl) (1.17.0)\n",
      "Requirement already satisfied: babel in c:\\users\\diestorn\\anaconda3\\lib\\site-packages (from docxcompose->docxtpl) (2.16.0)\n",
      "Requirement already satisfied: MarkupSafe>=2.0 in c:\\users\\diestorn\\anaconda3\\lib\\site-packages (from jinja2->docxtpl) (3.0.2)\n",
      "Note: you may need to restart the kernel to use updated packages.\n"
     ]
    }
   ],
   "source": [
    "%pip install docxtpl"
   ]
  },
  {
   "cell_type": "code",
   "execution_count": 2,
   "id": "bafe84b2-e254-4bf3-a267-71d4423e5509",
   "metadata": {},
   "outputs": [],
   "source": [
    "import pandas as pd\n",
    "from docxtpl import DocxTemplate\n",
    "from datetime import datetime\n",
    "import re"
   ]
  },
  {
   "cell_type": "code",
   "execution_count": 4,
   "id": "0508460a-b306-4b34-a2b0-f2a96dfa8778",
   "metadata": {},
   "outputs": [
    {
     "name": "stdout",
     "output_type": "stream",
     "text": [
      "  Nombre del alumno  Carrito  Historia  Examen1         correo_electronico\n",
      "0    Daniel Espitia       17        17       20   zeniff.espitia@gmail.com\n",
      "1     Ana Gutierrez       18        14       19  danielzespitiar@gmail.com\n",
      "2     Diego Cardozo       20        20       20  cardozodiego512@gmail.com\n",
      "3     Victor Davila       15        15       15     victordavila@gmail.com\n"
     ]
    }
   ],
   "source": [
    "df_estudiantes = pd.read_csv('Ejercicio 1(Hoja1).csv', delimiter=';')\n",
    "print(df_estudiantes.head())\n",
    "\n",
    "nombre_profesor = \"Daniel Espitia\"      \n",
    "telefono_profesor = \"+58 7237322\"        \n",
    "correo_profesor = \"daniel.spitia@gmail.com.com\"     \n",
    "\n",
    "fecha_entrega = datetime.now().strftime(\"%d de %B de %Y\")"
   ]
  },
  {
   "cell_type": "code",
   "execution_count": 5,
   "id": "b229d016-e4e4-4833-b59e-4744b66bd13a",
   "metadata": {},
   "outputs": [
    {
     "name": "stdout",
     "output_type": "stream",
     "text": [
      "Carta de notas para Daniel Espitia generada.\n",
      "Carta de notas para Ana Gutierrez generada.\n",
      "Carta de notas para Diego Cardozo generada.\n",
      "Carta de notas para Victor Davila generada.\n"
     ]
    }
   ],
   "source": [
    "for index, row in df_estudiantes.iterrows():\n",
    "    doc = DocxTemplate('Ejercicio 1.docx') \n",
    "    \n",
    "    nombre_estudiante_actual = row['Nombre del alumno']\n",
    "    correo_electronico_estudiante = row['correo_electronico']\n",
    "    nota_carrito = row['Carrito']\n",
    "    nota_historia = row['Historia']\n",
    "    nota_examen1 = row['Examen1']\n",
    "    \n",
    "    context = {\n",
    "        'nombre_estudiante': nombre_estudiante_actual,\n",
    "        'correo_electronico': correo_electronico_estudiante,\n",
    "        'carrito': nota_carrito,\n",
    "        'historia': nota_historia,\n",
    "        'examen1': nota_examen1,\n",
    "        'nombre_profesor': nombre_profesor,\n",
    "        'telefono_profesor': telefono_profesor,\n",
    "        'correo_profesor': correo_profesor,\n",
    "        'fecha_entrega': fecha_entrega,\n",
    "    }\n",
    "    \n",
    "    doc.render(context)\n",
    "    \n",
    "    nombre_base_limpio = re.sub(r'[^\\w\\s-]', '', nombre_estudiante_actual).replace(' ', '_')\n",
    "    nombre_archivo_carta = f\"Carta_Notas_{index + 1}_{nombre_base_limpio}.docx\"\n",
    "    \n",
    "    doc.save(nombre_archivo_carta)\n",
    "    print(f\"Carta de notas para {nombre_estudiante_actual} generada.\")"
   ]
  },
  {
   "cell_type": "code",
   "execution_count": null,
   "id": "bafeea06-0782-4a04-8b26-b4a398983d09",
   "metadata": {},
   "outputs": [],
   "source": []
  }
 ],
 "metadata": {
  "kernelspec": {
   "display_name": "Python [conda env:base] *",
   "language": "python",
   "name": "conda-base-py"
  },
  "language_info": {
   "codemirror_mode": {
    "name": "ipython",
    "version": 3
   },
   "file_extension": ".py",
   "mimetype": "text/x-python",
   "name": "python",
   "nbconvert_exporter": "python",
   "pygments_lexer": "ipython3",
   "version": "3.13.5"
  }
 },
 "nbformat": 4,
 "nbformat_minor": 5
}
