{
 "cells": [
  {
   "cell_type": "code",
   "execution_count": 1,
   "id": "d809006a-82ff-4b90-8a05-3cb2a7a305c0",
   "metadata": {},
   "outputs": [
    {
     "name": "stdout",
     "output_type": "stream",
     "text": [
      "Collecting docxtpl\n",
      "  Downloading docxtpl-0.20.1-py3-none-any.whl.metadata (9.4 kB)\n",
      "Requirement already satisfied: openpyxl in c:\\users\\diestorn\\anaconda3\\lib\\site-packages (3.1.5)\n",
      "Collecting python-docx>=1.1.1 (from docxtpl)\n",
      "  Downloading python_docx-1.2.0-py3-none-any.whl.metadata (2.0 kB)\n",
      "Collecting docxcompose (from docxtpl)\n",
      "  Downloading docxcompose-1.4.0.tar.gz (20 kB)\n",
      "  Preparing metadata (setup.py): started\n",
      "  Preparing metadata (setup.py): finished with status 'done'\n",
      "Requirement already satisfied: jinja2 in c:\\users\\diestorn\\anaconda3\\lib\\site-packages (from docxtpl) (3.1.6)\n",
      "Requirement already satisfied: lxml in c:\\users\\diestorn\\anaconda3\\lib\\site-packages (from docxtpl) (5.3.0)\n",
      "Requirement already satisfied: et-xmlfile in c:\\users\\diestorn\\anaconda3\\lib\\site-packages (from openpyxl) (1.1.0)\n",
      "Requirement already satisfied: typing_extensions>=4.9.0 in c:\\users\\diestorn\\anaconda3\\lib\\site-packages (from python-docx>=1.1.1->docxtpl) (4.12.2)\n",
      "Requirement already satisfied: setuptools in c:\\users\\diestorn\\anaconda3\\lib\\site-packages (from docxcompose->docxtpl) (72.1.0)\n",
      "Requirement already satisfied: six in c:\\users\\diestorn\\anaconda3\\lib\\site-packages (from docxcompose->docxtpl) (1.17.0)\n",
      "Requirement already satisfied: babel in c:\\users\\diestorn\\anaconda3\\lib\\site-packages (from docxcompose->docxtpl) (2.16.0)\n",
      "Requirement already satisfied: MarkupSafe>=2.0 in c:\\users\\diestorn\\anaconda3\\lib\\site-packages (from jinja2->docxtpl) (3.0.2)\n",
      "Downloading docxtpl-0.20.1-py3-none-any.whl (20 kB)\n",
      "Downloading python_docx-1.2.0-py3-none-any.whl (252 kB)\n",
      "Building wheels for collected packages: docxcompose\n",
      "  Building wheel for docxcompose (setup.py): started\n",
      "  Building wheel for docxcompose (setup.py): finished with status 'done'\n",
      "  Created wheel for docxcompose: filename=docxcompose-1.4.0-py3-none-any.whl size=23299 sha256=faed736bf978b34e0af59ae710a59922f664be81a3e3209482e996b5090fa857\n",
      "  Stored in directory: c:\\users\\diestorn\\appdata\\local\\pip\\cache\\wheels\\85\\55\\3a\\fd2d62be91ca244b338415d6e6e96b4c0d85056130790f9feb\n",
      "Successfully built docxcompose\n",
      "Installing collected packages: python-docx, docxcompose, docxtpl\n",
      "\n",
      "   ---------------------------------------- 0/3 [python-docx]\n",
      "   ---------------------------------------- 0/3 [python-docx]\n",
      "   ---------------------------------------- 3/3 [docxtpl]\n",
      "\n",
      "Successfully installed docxcompose-1.4.0 docxtpl-0.20.1 python-docx-1.2.0\n",
      "Note: you may need to restart the kernel to use updated packages.\n"
     ]
    },
    {
     "name": "stderr",
     "output_type": "stream",
     "text": [
      "  DEPRECATION: Building 'docxcompose' using the legacy setup.py bdist_wheel mechanism, which will be removed in a future version. pip 25.3 will enforce this behaviour change. A possible replacement is to use the standardized build interface by setting the `--use-pep517` option, (possibly combined with `--no-build-isolation`), or adding a `pyproject.toml` file to the source tree of 'docxcompose'. Discussion can be found at https://github.com/pypa/pip/issues/6334\n"
     ]
    }
   ],
   "source": [
    "%pip install docxtpl openpyxl"
   ]
  },
  {
   "cell_type": "code",
   "execution_count": 7,
   "id": "b982734f-92f3-4cf7-bc94-fc2d3af13b8c",
   "metadata": {},
   "outputs": [],
   "source": [
    "import pandas as pd\n",
    "from docxtpl import DocxTemplate\n",
    "from datetime import datetime"
   ]
  },
  {
   "cell_type": "code",
   "execution_count": 8,
   "id": "d9644b2d-9269-49e5-aa7a-ef6d593ffc51",
   "metadata": {},
   "outputs": [
    {
     "name": "stdout",
     "output_type": "stream",
     "text": [
      "Datos de participantes cargados exitosamente:\n",
      "  Nombre Completo     Nombre del curso         Correo Electronico\n",
      "0   Diego Cardozo  Creacion de paginas  cardozodiego512@gmail.com\n",
      "1  Daniel espitia      python Avanzado   danielrespitia@gmail.com\n",
      "2       Ana Rojas       Diseño Grafico         anarojas@gmail.com\n"
     ]
    }
   ],
   "source": [
    "df_participantes = pd.read_excel('Participantes.xlsx')\n",
    "print(\"Datos de participantes cargados exitosamente:\")\n",
    "print(df_participantes.head())"
   ]
  },
  {
   "cell_type": "code",
   "execution_count": 9,
   "id": "83199b12-9e5a-4213-80c7-24b782c4dd5a",
   "metadata": {},
   "outputs": [],
   "source": [
    "nombre_curso_generico = \"Curso de Automatización con Python\" \n",
    "fecha_certificado = datetime.now().strftime(\"%d de %B de %Y\") \n",
    "nombre_profesor = \"Daniel Espitia\"\n",
    "telefono_profesor = \"+58 412 123 4567\"\n",
    "correo_profesor = \"daniel.espitiaf@example.com\"\n",
    "fecha_entrega = datetime.now().strftime(\"%d/%m/%Y\")"
   ]
  },
  {
   "cell_type": "code",
   "execution_count": 20,
   "id": "a6f6687a-a34a-4aef-b51c-73c3e5842d8c",
   "metadata": {},
   "outputs": [
    {
     "name": "stdout",
     "output_type": "stream",
     "text": [
      "\n",
      "Generando certificados...\n",
      "\n",
      "Plantilla de certificado cargada exitosamente.\n",
      "Certificado para Diego Cardozo generado como 'Certificado_Diego_Cardozo.docx'\n",
      "\n",
      "Plantilla de certificado cargada exitosamente.\n",
      "Certificado para Daniel espitia generado como 'Certificado_Daniel_espitia.docx'\n",
      "\n",
      "Plantilla de certificado cargada exitosamente.\n",
      "Certificado para Ana Rojas generado como 'Certificado_Ana_Rojas.docx'\n",
      "\n",
      "¡Proceso de generación de certificados completado!\n"
     ]
    }
   ],
   "source": [
    "print(\"\\nGenerando certificados...\")\n",
    "for index, row in df_participantes.iterrows():\n",
    "    doc_template = DocxTemplate('Certificado_Plantilla.docx')\n",
    "    print(\"\\nPlantilla de certificado cargada exitosamente.\")\n",
    "    nombre_completo = row['Nombre Completo']\n",
    "    nombre_del_curso_participante = row['Nombre del curso'] \n",
    "    correo_electronico_participante = row['Correo Electronico']\n",
    "\n",
    "    context = {\n",
    "        'nombre_participante': nombre_completo,\n",
    "        'correo_electronico': correo_electronico_participante,\n",
    "        'nombre_curso': nombre_del_curso_participante,\n",
    "        'fecha_certificado': fecha_certificado,\n",
    "        'nombre_profesor': nombre_profesor,\n",
    "        'telefono_profesor': telefono_profesor,\n",
    "        'correo_profesor': correo_profesor,\n",
    "        'fecha_entrega': fecha_entrega,\n",
    "    }\n",
    "    doc_template.render(context)   \n",
    "    nombre_archivo_certificado = f\"Certificado_{nombre_completo.replace(' ', '_')}.docx\"\n",
    "    doc_template.save(nombre_archivo_certificado)\n",
    "    print(f\"Certificado para {nombre_completo} generado como '{nombre_archivo_certificado}'\")\n",
    "\n",
    "print(\"\\n¡Proceso de generación de certificados completado!\")"
   ]
  },
  {
   "cell_type": "code",
   "execution_count": null,
   "id": "7d35b0c4-47f7-4eb8-9dac-5f18b49f7459",
   "metadata": {},
   "outputs": [],
   "source": []
  }
 ],
 "metadata": {
  "kernelspec": {
   "display_name": "Python [conda env:base] *",
   "language": "python",
   "name": "conda-base-py"
  },
  "language_info": {
   "codemirror_mode": {
    "name": "ipython",
    "version": 3
   },
   "file_extension": ".py",
   "mimetype": "text/x-python",
   "name": "python",
   "nbconvert_exporter": "python",
   "pygments_lexer": "ipython3",
   "version": "3.13.5"
  }
 },
 "nbformat": 4,
 "nbformat_minor": 5
}
