{
 "cells": [
  {
   "cell_type": "code",
   "execution_count": 1,
   "id": "84a70e29-c992-4188-bcf0-f4b5a0d780e2",
   "metadata": {},
   "outputs": [
    {
     "name": "stdout",
     "output_type": "stream",
     "text": [
      "Requirement already satisfied: pandas in c:\\users\\diestorn\\anaconda3\\lib\\site-packages (2.2.3)\n",
      "Requirement already satisfied: matplotlib in c:\\users\\diestorn\\anaconda3\\lib\\site-packages (3.10.0)\n",
      "Requirement already satisfied: docxtpl in c:\\users\\diestorn\\anaconda3\\lib\\site-packages (0.20.1)\n",
      "Requirement already satisfied: openpyxl in c:\\users\\diestorn\\anaconda3\\lib\\site-packages (3.1.5)\n",
      "Requirement already satisfied: numpy>=1.26.0 in c:\\users\\diestorn\\anaconda3\\lib\\site-packages (from pandas) (2.1.3)\n",
      "Requirement already satisfied: python-dateutil>=2.8.2 in c:\\users\\diestorn\\anaconda3\\lib\\site-packages (from pandas) (2.9.0.post0)\n",
      "Requirement already satisfied: pytz>=2020.1 in c:\\users\\diestorn\\anaconda3\\lib\\site-packages (from pandas) (2024.1)\n",
      "Requirement already satisfied: tzdata>=2022.7 in c:\\users\\diestorn\\anaconda3\\lib\\site-packages (from pandas) (2025.2)\n",
      "Requirement already satisfied: contourpy>=1.0.1 in c:\\users\\diestorn\\anaconda3\\lib\\site-packages (from matplotlib) (1.3.1)\n",
      "Requirement already satisfied: cycler>=0.10 in c:\\users\\diestorn\\anaconda3\\lib\\site-packages (from matplotlib) (0.11.0)\n",
      "Requirement already satisfied: fonttools>=4.22.0 in c:\\users\\diestorn\\anaconda3\\lib\\site-packages (from matplotlib) (4.55.3)\n",
      "Requirement already satisfied: kiwisolver>=1.3.1 in c:\\users\\diestorn\\anaconda3\\lib\\site-packages (from matplotlib) (1.4.8)\n",
      "Requirement already satisfied: packaging>=20.0 in c:\\users\\diestorn\\anaconda3\\lib\\site-packages (from matplotlib) (24.2)\n",
      "Requirement already satisfied: pillow>=8 in c:\\users\\diestorn\\anaconda3\\lib\\site-packages (from matplotlib) (11.1.0)\n",
      "Requirement already satisfied: pyparsing>=2.3.1 in c:\\users\\diestorn\\anaconda3\\lib\\site-packages (from matplotlib) (3.2.0)\n",
      "Requirement already satisfied: python-docx>=1.1.1 in c:\\users\\diestorn\\anaconda3\\lib\\site-packages (from docxtpl) (1.2.0)\n",
      "Requirement already satisfied: docxcompose in c:\\users\\diestorn\\anaconda3\\lib\\site-packages (from docxtpl) (1.4.0)\n",
      "Requirement already satisfied: jinja2 in c:\\users\\diestorn\\anaconda3\\lib\\site-packages (from docxtpl) (3.1.6)\n",
      "Requirement already satisfied: lxml in c:\\users\\diestorn\\anaconda3\\lib\\site-packages (from docxtpl) (5.3.0)\n",
      "Requirement already satisfied: et-xmlfile in c:\\users\\diestorn\\anaconda3\\lib\\site-packages (from openpyxl) (1.1.0)\n",
      "Requirement already satisfied: six>=1.5 in c:\\users\\diestorn\\anaconda3\\lib\\site-packages (from python-dateutil>=2.8.2->pandas) (1.17.0)\n",
      "Requirement already satisfied: typing_extensions>=4.9.0 in c:\\users\\diestorn\\anaconda3\\lib\\site-packages (from python-docx>=1.1.1->docxtpl) (4.12.2)\n",
      "Requirement already satisfied: setuptools in c:\\users\\diestorn\\anaconda3\\lib\\site-packages (from docxcompose->docxtpl) (72.1.0)\n",
      "Requirement already satisfied: babel in c:\\users\\diestorn\\anaconda3\\lib\\site-packages (from docxcompose->docxtpl) (2.16.0)\n",
      "Requirement already satisfied: MarkupSafe>=2.0 in c:\\users\\diestorn\\anaconda3\\lib\\site-packages (from jinja2->docxtpl) (3.0.2)\n",
      "Note: you may need to restart the kernel to use updated packages.\n"
     ]
    }
   ],
   "source": [
    "%pip install pandas matplotlib docxtpl openpyxl"
   ]
  },
  {
   "cell_type": "code",
   "execution_count": 2,
   "id": "57cd9225-147d-478f-bbcd-bc6211e4bc16",
   "metadata": {},
   "outputs": [],
   "source": [
    "import pandas as pd\n",
    "from docxtpl import DocxTemplate, InlineImage\n",
    "from docx.shared import Inches # Necesario para el tamaño del gráfico\n",
    "import matplotlib.pyplot as plt\n",
    "from datetime import datetime\n",
    "import os\n",
    "import re"
   ]
  },
  {
   "cell_type": "code",
   "execution_count": 3,
   "id": "bf39f06e-302a-4ca3-bb09-a51072b6811b",
   "metadata": {},
   "outputs": [
    {
     "name": "stdout",
     "output_type": "stream",
     "text": [
      "Datos de informes cargados exitosamente:\n",
      "  Nombre Estudiante    Email Estudiante  Matemáticas  Asistencia Matemáticas  \\\n",
      "0      Carlos Pérez  carlos@example.com           85                      90   \n",
      "1       Laura Garcí   laura@example.com           70                      75   \n",
      "2      Pedro Martín   pedro@example.com           95                     100   \n",
      "\n",
      "   Literatura  Asistencia Literatura  Ciencias  Asistencia Ciencias  \\\n",
      "0          78                     85        92                   95   \n",
      "1          88                     90        75                   80   \n",
      "2          92                     98        90                   90   \n",
      "\n",
      "                                Comentarios Profesor  \\\n",
      "0  Carlos muestra un gran potencial, pero debe re...   \n",
      "1  Laura es muy dedicada y ha mejorado notablemen...   \n",
      "2  Pedro tiene un rendimiento excelente y una asi...   \n",
      "\n",
      "                                     Recomendaciones  \n",
      "0  Repasar conceptos clave de literatura y partic...  \n",
      "1  Seguir practicando ejercicios de matemáticas p...  \n",
      "2  Continuar con el mismo nivel de compromiso y e...  \n",
      "\n",
      "Variables configuradas.\n"
     ]
    }
   ],
   "source": [
    "df_informes = pd.read_excel('Notas_Asistencia_Estudiantes.xlsx')\n",
    "print(\"Datos de informes cargados exitosamente:\")\n",
    "print(df_informes.head())\n",
    "\n",
    "nombre_profesor = \"Daniel Espitia\"      \n",
    "correo_profesor = \"daniel.espitia@example.com\"     \n",
    "\n",
    "\n",
    "fecha_informe = datetime.now().strftime(\"%d de %B de %Y\")\n",
    "\n",
    "print(\"\\nVariables configuradas.\")"
   ]
  },
  {
   "cell_type": "code",
   "execution_count": 4,
   "id": "0c93918a-36f6-4365-9a89-601ec3ea1985",
   "metadata": {},
   "outputs": [
    {
     "name": "stdout",
     "output_type": "stream",
     "text": [
      "\n",
      "Generando informes de progreso...\n"
     ]
    }
   ],
   "source": [
    "print(\"\\nGenerando informes de progreso...\")\n",
    "\n",
    "if not os.path.exists(\"Informes_Progreso\"):\n",
    "    os.makedirs(\"Informes_Progreso\")\n",
    "if not os.path.exists(\"Temp_Graficos\"):\n",
    "    os.makedirs(\"Temp_Graficos\")"
   ]
  },
  {
   "cell_type": "code",
   "execution_count": null,
   "id": "3a9d05b1-3cf6-46f0-8172-1fe225db182a",
   "metadata": {},
   "outputs": [],
   "source": [
    "for index, row in df_informes.iterrows():\n",
    "\n",
    "    doc = DocxTemplate('Informe_Progreso_Plantilla.docx')\n",
    "    nombre_estudiante_actual = row['Nombre Estudiante']\n",
    "    email_estudiante_actual = row['Email Estudiante']\n",
    "    \n",
    "    nota_matematicas = row['Matemáticas']\n",
    "    asistencia_matematicas = row['Asistencia Matemáticas']\n",
    "    nota_literatura = row['Literatura']\n",
    "    asistencia_literatura = row['Asistencia Literatura']\n",
    "    nota_ciencias = row['Ciencias']\n",
    "    asistencia_ciencias = row['Asistencia Ciencias']\n",
    "    \n",
    "    comentarios_profesor = row['Comentarios Profesor']\n",
    "    recomendaciones = row['Recomendaciones']\n",
    "    \n",
    "\n",
    "    asignaturas = ['Matemáticas', 'Literatura', 'Ciencias']\n",
    "    notas = [nota_matematicas, nota_literatura, nota_ciencias]\n",
    "    \n",
    "    plt.figure(figsize=(6, 4)) \n",
    "    plt.bar(asignaturas, notas, color=['skyblue', 'lightcoral', 'lightgreen'])\n",
    "    plt.ylim(0, 100) \n",
    "    plt.title(f'Notas de {nombre_estudiante_actual}')\n",
    "    plt.ylabel('Calificación')\n",
    "    plt.grid(axis='y', linestyle='--', alpha=0.7)\n",
    "    \n",
    "    \n",
    "    nombre_grafico_temp = os.path.join(\"Temp_Graficos\", f\"grafico_{index}.png\")\n",
    "    plt.savefig(nombre_grafico_temp, bbox_inches='tight')\n",
    "    plt.close() \n",
    "   \n",
    "\n",
    "    context = {\n",
    "        'nombre_estudiante': nombre_estudiante_actual,\n",
    "        'fecha_informe': fecha_informe,\n",
    "        'nota_matematicas': nota_matematicas,\n",
    "        'asistencia_matematicas': asistencia_matematicas,\n",
    "        'nota_literatura': nota_literatura,\n",
    "        'asistencia_literatura': asistencia_literatura,\n",
    "        'nota_ciencias': nota_ciencias,\n",
    "        'asistencia_ciencias': asistencia_ciencias,\n",
    "        'comentarios_profesor': comentarios_profesor,\n",
    "        'recomendaciones': recomendaciones,\n",
    "        'nombre_profesor': nombre_profesor,\n",
    "        'correo_profesor': correo_profesor,\n",
    "        'grafico_rendimiento': InlineImage(doc, nombre_grafico_temp, width=Inches(5)), # Insertar el gráfico\n",
    "    }\n",
    "    \n",
    "    # Renderizar la plantilla con los datos\n",
    "    doc.render(context)\n",
    "    \n",
    "    # Generar un nombre de archivo seguro y único para el informe\n",
    "    nombre_base_limpio = re.sub(r'[^\\w\\s-]', '', nombre_estudiante_actual).replace(' ', '_')\n",
    "    nombre_archivo_informe = os.path.join(\"Informes_Progreso\", f\"Informe_Progreso_{index + 1}_{nombre_base_limpio}.docx\")\n",
    "    \n",
    "    # Guardar el informe personalizado\n",
    "    doc.save(nombre_archivo_informe)\n",
    "    print(f\"Informe para {nombre_estudiante_actual} generado como '{nombre_archivo_informe}'\")\n",
    "\n",
    "# Opcional: Eliminar la carpeta de gráficos temporales al finalizar\n",
    "# import shutil\n",
    "# shutil.rmtree(\"Temp_Graficos\")\n",
    "\n",
    "print(\"\\n¡Proceso de generación de informes de progreso completado!\")"
   ]
  }
 ],
 "metadata": {
  "kernelspec": {
   "display_name": "Python [conda env:base] *",
   "language": "python",
   "name": "conda-base-py"
  },
  "language_info": {
   "codemirror_mode": {
    "name": "ipython",
    "version": 3
   },
   "file_extension": ".py",
   "mimetype": "text/x-python",
   "name": "python",
   "nbconvert_exporter": "python",
   "pygments_lexer": "ipython3",
   "version": "3.13.5"
  }
 },
 "nbformat": 4,
 "nbformat_minor": 5
}
