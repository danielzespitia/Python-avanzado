{
 "cells": [
  {
   "cell_type": "code",
   "execution_count": 104,
   "id": "f13a5904",
   "metadata": {},
   "outputs": [
    {
     "name": "stdout",
     "output_type": "stream",
     "text": [
      "Note: you may need to restart the kernel to use updated packages.\n",
      "Note: you may need to restart the kernel to use updated packages.\n",
      "Note: you may need to restart the kernel to use updated packages.\n",
      "Note: you may need to restart the kernel to use updated packages.\n",
      "Note: you may need to restart the kernel to use updated packages.\n"
     ]
    }
   ],
   "source": [
    "%pip install pandas openpyxl -q\n",
    "%pip install pandas openpyxl reportlab -q\n",
    "%pip install docxtpl -q\n",
    "%pip install openpyxl -q\n",
    "%pip install pandas openpyxl python-docx docx2pdf -q\n",
    "\n",
    "from docxtpl import DocxTemplate\n",
    "from docx2pdf import convert\n",
    "from docx import Document\n",
    "import pandas as pd\n",
    "import smtplib\n",
    "from email.message import EmailMessage\n",
    "from email.utils import formataddr\n",
    "import os\n"
   ]
  },
  {
   "cell_type": "code",
   "execution_count": 105,
   "id": "c9db9cbf",
   "metadata": {},
   "outputs": [],
   "source": [
    "df = pd.read_excel(\"envio.xlsx\")\n",
    "doc = DocxTemplate(\"envio.docx\")"
   ]
  },
  {
   "cell_type": "code",
   "execution_count": 106,
   "id": "72ea05fc",
   "metadata": {},
   "outputs": [],
   "source": [
    "def enviar_correo(destinatario, nombre, notas, pdf_path):\n",
    "    remitente = \"pjoander@gmail.com\"     \n",
    "    password = \"dphf udux rraq vekb\"             \n",
    "    msg = EmailMessage()\n",
    "    msg['Subject'] = f\"Notas de {nombre}\"\n",
    "    msg['From'] = formataddr(('Profesor', remitente))\n",
    "    msg['To'] = destinatario\n",
    "\n",
    "    cuerpo = f\"\"\"\n",
    "    Hola {nombre},\n",
    "\n",
    "    Estas son tus notas:\n",
    "    {notas}\n",
    "\n",
    "    Adjuntamos el resumen en PDF.\n",
    "\n",
    "    Saludos,\n",
    "    Profesor\n",
    "    \"\"\"\n",
    "    msg.set_content(cuerpo, charset='utf-8')\n",
    "\n",
    "    with open(pdf_path, 'rb') as f:\n",
    "        pdf_data = f.read()\n",
    "        msg.add_attachment(pdf_data, maintype='application', subtype='pdf', filename=pdf_path)\n",
    "\n",
    "   \n",
    "    with smtplib.SMTP_SSL('smtp.gmail.com', 465) as smtp:\n",
    "        smtp.login(remitente, password)\n",
    "        smtp.send_message(msg)\n"
   ]
  },
  {
   "cell_type": "code",
   "execution_count": 107,
   "id": "2c8c2aa0",
   "metadata": {},
   "outputs": [
    {
     "data": {
      "application/vnd.jupyter.widget-view+json": {
       "model_id": "088fa5a920ea4c03bbc92b19539890d1",
       "version_major": 2,
       "version_minor": 0
      },
      "text/plain": [
       "  0%|          | 0/1 [00:00<?, ?it/s]"
      ]
     },
     "metadata": {},
     "output_type": "display_data"
    },
    {
     "data": {
      "application/vnd.jupyter.widget-view+json": {
       "model_id": "163d7c69f4c64bd4ab9875ab60de0d6b",
       "version_major": 2,
       "version_minor": 0
      },
      "text/plain": [
       "  0%|          | 0/1 [00:00<?, ?it/s]"
      ]
     },
     "metadata": {},
     "output_type": "display_data"
    },
    {
     "ename": "KeyboardInterrupt",
     "evalue": "",
     "output_type": "error",
     "traceback": [
      "\u001b[1;31m---------------------------------------------------------------------------\u001b[0m",
      "\u001b[1;31mKeyboardInterrupt\u001b[0m                         Traceback (most recent call last)",
      "Cell \u001b[1;32mIn[107], line 21\u001b[0m\n\u001b[0;32m     18\u001b[0m doc\u001b[38;5;241m.\u001b[39msave(docx_path)  \n\u001b[0;32m     19\u001b[0m convert(docx_path, pdf_path)\n\u001b[1;32m---> 21\u001b[0m enviar_correo(correo, nombre, notas, pdf_path)\n",
      "Cell \u001b[1;32mIn[106], line 1\u001b[0m, in \u001b[0;36menviar_correo\u001b[1;34m(destinatario, nombre, notas, pdf_path)\u001b[0m\n\u001b[1;32m----> 1\u001b[0m \u001b[38;5;28;01mdef\u001b[39;00m\u001b[38;5;250m \u001b[39m\u001b[38;5;21menviar_correo\u001b[39m(destinatario, nombre, notas, pdf_path):\n\u001b[0;32m      2\u001b[0m     remitente \u001b[38;5;241m=\u001b[39m \u001b[38;5;124m\"\u001b[39m\u001b[38;5;124mpjoander@gmail.com\u001b[39m\u001b[38;5;124m\"\u001b[39m     \n\u001b[0;32m      3\u001b[0m     password \u001b[38;5;241m=\u001b[39m \u001b[38;5;124m\"\u001b[39m\u001b[38;5;124mdphf udux rraq vekb\u001b[39m\u001b[38;5;124m\"\u001b[39m             \n",
      "\u001b[1;31mKeyboardInterrupt\u001b[0m: "
     ]
    }
   ],
   "source": [
    "for idx, row in df.iterrows():\n",
    "    nombre = row['nombre']\n",
    "    correo = row['correo_electronico']\n",
    "    notas = {\n",
    "        \"nombre\": row['nombre'],\n",
    "        \"correo_electronico\": row['correo_electronico'],\n",
    "        \"castellano\": row['castellano'],\n",
    "        \"matematica\": row['matematica'], \n",
    "        \"biologia\": row['biologia'], \n",
    "        \"historia\": row['historia'], \n",
    "        \"fisica\": row['fisica'], \n",
    "        \"quimica\": row['quimica'], \n",
    "        \"metodologia\": row['metodologia']\n",
    "    }\n",
    "    doc.render(notas)\n",
    "    docx_path = f\"envio_{nombre}.docx\"\n",
    "    pdf_path = f\"envio_{nombre}.pdf\"\n",
    "    doc.save(docx_path)  \n",
    "    convert(docx_path, pdf_path)\n",
    "\n",
    "    enviar_correo(correo, nombre, notas, pdf_path) "
   ]
  }
 ],
 "metadata": {
  "kernelspec": {
   "display_name": "base",
   "language": "python",
   "name": "python3"
  },
  "language_info": {
   "codemirror_mode": {
    "name": "ipython",
    "version": 3
   },
   "file_extension": ".py",
   "mimetype": "text/x-python",
   "name": "python",
   "nbconvert_exporter": "python",
   "pygments_lexer": "ipython3",
   "version": "3.13.5"
  }
 },
 "nbformat": 4,
 "nbformat_minor": 5
}
