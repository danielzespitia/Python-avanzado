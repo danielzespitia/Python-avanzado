{
 "cells": [
  {
   "cell_type": "code",
   "execution_count": 1,
   "id": "2c82e4d7",
   "metadata": {},
   "outputs": [
    {
     "name": "stderr",
     "output_type": "stream",
     "text": [
      "\n",
      "[notice] A new release of pip is available: 25.1.1 -> 25.2\n",
      "[notice] To update, run: python.exe -m pip install --upgrade pip\n"
     ]
    }
   ],
   "source": [
    "! pip install pandas docxtpl openpyxl docx2pdf gtts -q"
   ]
  },
  {
   "cell_type": "code",
   "execution_count": 2,
   "id": "547fa5c7",
   "metadata": {},
   "outputs": [
    {
     "name": "stderr",
     "output_type": "stream",
     "text": [
      "\n",
      "[notice] A new release of pip is available: 25.1.1 -> 25.2\n",
      "[notice] To update, run: python.exe -m pip install --upgrade pip\n"
     ]
    },
    {
     "name": "stdout",
     "output_type": "stream",
     "text": [
      "Requirement already satisfied: gtts in c:\\users\\user\\appdata\\local\\programs\\python\\python313\\lib\\site-packages (2.5.4)\n",
      "Requirement already satisfied: requests<3,>=2.27 in c:\\users\\user\\appdata\\local\\programs\\python\\python313\\lib\\site-packages (from gtts) (2.32.4)\n",
      "Requirement already satisfied: click<8.2,>=7.1 in c:\\users\\user\\appdata\\local\\programs\\python\\python313\\lib\\site-packages (from gtts) (8.1.8)\n",
      "Requirement already satisfied: colorama in c:\\users\\user\\appdata\\local\\programs\\python\\python313\\lib\\site-packages (from click<8.2,>=7.1->gtts) (0.4.6)\n",
      "Requirement already satisfied: charset_normalizer<4,>=2 in c:\\users\\user\\appdata\\local\\programs\\python\\python313\\lib\\site-packages (from requests<3,>=2.27->gtts) (3.4.2)\n",
      "Requirement already satisfied: idna<4,>=2.5 in c:\\users\\user\\appdata\\local\\programs\\python\\python313\\lib\\site-packages (from requests<3,>=2.27->gtts) (3.10)\n",
      "Requirement already satisfied: urllib3<3,>=1.21.1 in c:\\users\\user\\appdata\\local\\programs\\python\\python313\\lib\\site-packages (from requests<3,>=2.27->gtts) (2.5.0)\n",
      "Requirement already satisfied: certifi>=2017.4.17 in c:\\users\\user\\appdata\\local\\programs\\python\\python313\\lib\\site-packages (from requests<3,>=2.27->gtts) (2025.7.14)\n",
      "Note: you may need to restart the kernel to use updated packages.\n"
     ]
    },
    {
     "name": "stderr",
     "output_type": "stream",
     "text": [
      "c:\\Users\\User\\AppData\\Local\\Programs\\Python\\Python313\\Lib\\site-packages\\docxcompose\\properties.py:18: UserWarning: pkg_resources is deprecated as an API. See https://setuptools.pypa.io/en/latest/pkg_resources.html. The pkg_resources package is slated for removal as early as 2025-11-30. Refrain from using this package or pin to Setuptools<81.\n",
      "  import pkg_resources\n",
      "c:\\Users\\User\\AppData\\Local\\Programs\\Python\\Python313\\Lib\\site-packages\\tqdm\\auto.py:21: TqdmWarning: IProgress not found. Please update jupyter and ipywidgets. See https://ipywidgets.readthedocs.io/en/stable/user_install.html\n",
      "  from .autonotebook import tqdm as notebook_tqdm\n"
     ]
    }
   ],
   "source": [
    "%pip install gtts\n",
    "import pandas as pd\n",
    "from datetime import datetime\n",
    "from docxtpl import DocxTemplate\n",
    "from docx2pdf import convert\n",
    "from gtts import gTTS"
   ]
  },
  {
   "cell_type": "code",
   "execution_count": 3,
   "id": "8b0d0693",
   "metadata": {},
   "outputs": [
    {
     "name": "stdout",
     "output_type": "stream",
     "text": [
      "Requirement already satisfied: openpyxl in c:\\users\\user\\appdata\\local\\programs\\python\\python313\\lib\\site-packages (3.1.5)\n",
      "Requirement already satisfied: et-xmlfile in c:\\users\\user\\appdata\\local\\programs\\python\\python313\\lib\\site-packages (from openpyxl) (2.0.0)\n",
      "Note: you may need to restart the kernel to use updated packages.\n"
     ]
    },
    {
     "name": "stderr",
     "output_type": "stream",
     "text": [
      "\n",
      "[notice] A new release of pip is available: 25.1.1 -> 25.2\n",
      "[notice] To update, run: python.exe -m pip install --upgrade pip\n"
     ]
    }
   ],
   "source": [
    "%pip install openpyxl\n",
    "df = pd.read_excel(\"alumnos con comentarios.xlsx\")"
   ]
  },
  {
   "cell_type": "code",
   "execution_count": 4,
   "id": "9638dac0",
   "metadata": {},
   "outputs": [
    {
     "data": {
      "text/html": [
       "<div>\n",
       "<style scoped>\n",
       "    .dataframe tbody tr th:only-of-type {\n",
       "        vertical-align: middle;\n",
       "    }\n",
       "\n",
       "    .dataframe tbody tr th {\n",
       "        vertical-align: top;\n",
       "    }\n",
       "\n",
       "    .dataframe thead th {\n",
       "        text-align: right;\n",
       "    }\n",
       "</style>\n",
       "<table border=\"1\" class=\"dataframe\">\n",
       "  <thead>\n",
       "    <tr style=\"text-align: right;\">\n",
       "      <th></th>\n",
       "      <th>Nombre del Estudiante</th>\n",
       "      <th>Matemáticas (Nota)</th>\n",
       "      <th>Matemáticas (Comentario)</th>\n",
       "      <th>Lenguaje (Nota)</th>\n",
       "      <th>Lenguaje (Comentario)</th>\n",
       "      <th>Ciencias (Nota)</th>\n",
       "      <th>Ciencias (Comentario)</th>\n",
       "      <th>Historia (Nota)</th>\n",
       "      <th>Historia (Comentario)</th>\n",
       "      <th>Asistencia</th>\n",
       "      <th>Observaciones Generales</th>\n",
       "    </tr>\n",
       "  </thead>\n",
       "  <tbody>\n",
       "    <tr>\n",
       "      <th>0</th>\n",
       "      <td>Sofía Castro</td>\n",
       "      <td>88 (B+)</td>\n",
       "      <td>Buena comprensión, a veces errores por descuido.</td>\n",
       "      <td>92 (A)</td>\n",
       "      <td>Excelente habilidad escritura creativa y compr...</td>\n",
       "      <td>85 (B)</td>\n",
       "      <td>Participa activamente en experimentos y muestr...</td>\n",
       "      <td>90 (A-)</td>\n",
       "      <td>Entusiasta con proyectos, a veces le falta pro...</td>\n",
       "      <td>0.98</td>\n",
       "      <td>Estudiante brillante y muy colaboradora.</td>\n",
       "    </tr>\n",
       "    <tr>\n",
       "      <th>1</th>\n",
       "      <td>Alejandro Rojas</td>\n",
       "      <td>75 (C+)</td>\n",
       "      <td>Necesita reforzar operaciones básicas y resolv...</td>\n",
       "      <td>80 (B-)</td>\n",
       "      <td>Buena lectura, pero le cuesta organizar ideas ...</td>\n",
       "      <td>70 (C)</td>\n",
       "      <td>Requiere más esfuerzo en el estudio de concept...</td>\n",
       "      <td>82 (B)</td>\n",
       "      <td>Muestra interés, pero necesita mejorar la entr...</td>\n",
       "      <td>0.93</td>\n",
       "      <td>Tiene potencial, pero se distrae con facilidad...</td>\n",
       "    </tr>\n",
       "    <tr>\n",
       "      <th>2</th>\n",
       "      <td>Valentina Méndez</td>\n",
       "      <td>95 (A+)</td>\n",
       "      <td>Destaca por su lógica y rapidez en resolución ...</td>\n",
       "      <td>90 (A-)</td>\n",
       "      <td>Excelente expresión oral y escrita.</td>\n",
       "      <td>93 (A)</td>\n",
       "      <td>Muy curiosa y proactiva en la investigación ci...</td>\n",
       "      <td>96 (A+)</td>\n",
       "      <td>Gran capacidad de análisis y memorización de e...</td>\n",
       "      <td>1.00</td>\n",
       "      <td>Estudiante ejemplar, con motivación y rendimie...</td>\n",
       "    </tr>\n",
       "    <tr>\n",
       "      <th>3</th>\n",
       "      <td>Gabriel Torres</td>\n",
       "      <td>68 (D+)</td>\n",
       "      <td>Le cuesta entender nuevos conceptos. Requiere ...</td>\n",
       "      <td>72 (C)</td>\n",
       "      <td>Necesita mejorar fluidez lectora y ortografía.</td>\n",
       "      <td>60 (D)</td>\n",
       "      <td>Poco interés y dificultad para seguir explicac...</td>\n",
       "      <td>65 (D)</td>\n",
       "      <td>Pocos trabajos entregados y bajo rendimiento e...</td>\n",
       "      <td>0.85</td>\n",
       "      <td>Necesita plan de mejora urgente. Falta de asis...</td>\n",
       "    </tr>\n",
       "    <tr>\n",
       "      <th>4</th>\n",
       "      <td>Isabella Gómez</td>\n",
       "      <td>80 (B-)</td>\n",
       "      <td>Comprende mayoría de temas, pero debe practica...</td>\n",
       "      <td>85 (B)</td>\n",
       "      <td>Buena capacidad expresión oral, mejorar estruc...</td>\n",
       "      <td>78 (C+)</td>\n",
       "      <td>Interesada, pero a veces se distrae en activid...</td>\n",
       "      <td>88 (B+)</td>\n",
       "      <td>Disfruta aprendiendo sobre el pasado y present...</td>\n",
       "      <td>0.95</td>\n",
       "      <td>Estudiante alegre y participativa. Con más enf...</td>\n",
       "    </tr>\n",
       "  </tbody>\n",
       "</table>\n",
       "</div>"
      ],
      "text/plain": [
       "  Nombre del Estudiante Matemáticas (Nota)  \\\n",
       "0          Sofía Castro            88 (B+)   \n",
       "1       Alejandro Rojas            75 (C+)   \n",
       "2      Valentina Méndez            95 (A+)   \n",
       "3        Gabriel Torres            68 (D+)   \n",
       "4        Isabella Gómez            80 (B-)   \n",
       "\n",
       "                            Matemáticas (Comentario) Lenguaje (Nota)  \\\n",
       "0   Buena comprensión, a veces errores por descuido.          92 (A)   \n",
       "1  Necesita reforzar operaciones básicas y resolv...         80 (B-)   \n",
       "2  Destaca por su lógica y rapidez en resolución ...         90 (A-)   \n",
       "3  Le cuesta entender nuevos conceptos. Requiere ...          72 (C)   \n",
       "4  Comprende mayoría de temas, pero debe practica...          85 (B)   \n",
       "\n",
       "                               Lenguaje (Comentario) Ciencias (Nota)  \\\n",
       "0  Excelente habilidad escritura creativa y compr...          85 (B)   \n",
       "1  Buena lectura, pero le cuesta organizar ideas ...          70 (C)   \n",
       "2                Excelente expresión oral y escrita.          93 (A)   \n",
       "3     Necesita mejorar fluidez lectora y ortografía.          60 (D)   \n",
       "4  Buena capacidad expresión oral, mejorar estruc...         78 (C+)   \n",
       "\n",
       "                               Ciencias (Comentario) Historia (Nota)  \\\n",
       "0  Participa activamente en experimentos y muestr...         90 (A-)   \n",
       "1  Requiere más esfuerzo en el estudio de concept...          82 (B)   \n",
       "2  Muy curiosa y proactiva en la investigación ci...         96 (A+)   \n",
       "3  Poco interés y dificultad para seguir explicac...          65 (D)   \n",
       "4  Interesada, pero a veces se distrae en activid...         88 (B+)   \n",
       "\n",
       "                               Historia (Comentario)  Asistencia  \\\n",
       "0  Entusiasta con proyectos, a veces le falta pro...        0.98   \n",
       "1  Muestra interés, pero necesita mejorar la entr...        0.93   \n",
       "2  Gran capacidad de análisis y memorización de e...        1.00   \n",
       "3  Pocos trabajos entregados y bajo rendimiento e...        0.85   \n",
       "4  Disfruta aprendiendo sobre el pasado y present...        0.95   \n",
       "\n",
       "                             Observaciones Generales  \n",
       "0           Estudiante brillante y muy colaboradora.  \n",
       "1  Tiene potencial, pero se distrae con facilidad...  \n",
       "2  Estudiante ejemplar, con motivación y rendimie...  \n",
       "3  Necesita plan de mejora urgente. Falta de asis...  \n",
       "4  Estudiante alegre y participativa. Con más enf...  "
      ]
     },
     "execution_count": 4,
     "metadata": {},
     "output_type": "execute_result"
    }
   ],
   "source": [
    "df"
   ]
  },
  {
   "cell_type": "code",
   "execution_count": 5,
   "id": "aa5c29fb",
   "metadata": {},
   "outputs": [],
   "source": [
    "doc = DocxTemplate(\"alumnos con comentarios.docx\")"
   ]
  },
  {
   "cell_type": "code",
   "execution_count": 12,
   "id": "a19f6d14",
   "metadata": {},
   "outputs": [],
   "source": [
    "for idx, row in df.iterrows():\n",
    "    context = {\n",
    "        \"nombre_del_estudiante\": row[\"Nombre del Estudiante\"],\n",
    "        \"matematicas_notas\": row[\"Matemáticas (Nota)\"],\n",
    "        \"matematicas_comentario\": row[\"Matemáticas (Comentario)\"],\n",
    "        \"lenguaje_notas\": row[\"Lenguaje (Nota)\"],\n",
    "        \"lenguaje_comentario\": row[\"Lenguaje (Comentario)\"],\n",
    "        \"ciencias_notas\": row[\"Ciencias (Nota)\"],\n",
    "        \"ciencias_comentario\": row[\"Ciencias (Comentario)\"],\n",
    "        \"historia_notas\": row[\"Historia (Nota)\"],\n",
    "        \"historia_comentario\": row[\"Historia (Comentario)\"],\n",
    "        \"asistencia\": row[\"Asistencia\"],\n",
    "        \"observaciones_generales\": row[\"Observaciones Generales\"],\n",
    "    }\n",
    "    doc.render(context) \n",
    "    nombre_archivo = f\"informe_{row['Nombre del Estudiante']}.docx\"\n",
    "    doc.save(nombre_archivo)"
   ]
  },
  {
   "cell_type": "code",
   "execution_count": 7,
   "id": "e571f69e",
   "metadata": {},
   "outputs": [
    {
     "name": "stderr",
     "output_type": "stream",
     "text": [
      "100%|██████████| 1/1 [00:01<00:00,  1.90s/it]\n"
     ]
    }
   ],
   "source": [
    "convert(nombre_archivo)"
   ]
  },
  {
   "cell_type": "code",
   "execution_count": 9,
   "id": "9eaa3895",
   "metadata": {},
   "outputs": [],
   "source": [
    "tts = gTTS('resumen', lang='es')\n",
    "\n",
    "tts.save(f\"resumen_{row['Nombre del Estudiante']}.mp3\")"
   ]
  }
 ],
 "metadata": {
  "kernelspec": {
   "display_name": "Python 3",
   "language": "python",
   "name": "python3"
  },
  "language_info": {
   "codemirror_mode": {
    "name": "ipython",
    "version": 3
   },
   "file_extension": ".py",
   "mimetype": "text/x-python",
   "name": "python",
   "nbconvert_exporter": "python",
   "pygments_lexer": "ipython3",
   "version": "3.13.5"
  }
 },
 "nbformat": 4,
 "nbformat_minor": 5
}
