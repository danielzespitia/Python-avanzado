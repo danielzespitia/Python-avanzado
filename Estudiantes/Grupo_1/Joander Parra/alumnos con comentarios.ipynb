{
 "cells": [
  {
   "cell_type": "code",
   "execution_count": 1,
   "id": "2c82e4d7",
   "metadata": {},
   "outputs": [
    {
     "name": "stderr",
     "output_type": "stream",
     "text": [
      "\n",
      "[notice] A new release of pip is available: 25.0.1 -> 25.2\n",
      "[notice] To update, run: python.exe -m pip install --upgrade pip\n"
     ]
    }
   ],
   "source": [
    "! pip install pandas docxtpl openpyxl docx2pdf gtts -q"
   ]
  },
  {
   "cell_type": "code",
   "execution_count": 2,
   "id": "547fa5c7",
   "metadata": {},
   "outputs": [
    {
     "name": "stderr",
     "output_type": "stream",
     "text": [
      "\n",
      "[notice] A new release of pip is available: 25.0.1 -> 25.2\n",
      "[notice] To update, run: python.exe -m pip install --upgrade pip\n"
     ]
    },
    {
     "name": "stdout",
     "output_type": "stream",
     "text": [
      "Requirement already satisfied: gtts in c:\\users\\daniel espitia\\appdata\\local\\programs\\python\\python313\\lib\\site-packages (2.5.4)\n",
      "Requirement already satisfied: requests<3,>=2.27 in c:\\users\\daniel espitia\\appdata\\local\\programs\\python\\python313\\lib\\site-packages (from gtts) (2.32.4)\n",
      "Requirement already satisfied: click<8.2,>=7.1 in c:\\users\\daniel espitia\\appdata\\local\\programs\\python\\python313\\lib\\site-packages (from gtts) (8.1.8)\n",
      "Requirement already satisfied: colorama in c:\\users\\daniel espitia\\appdata\\local\\programs\\python\\python313\\lib\\site-packages (from click<8.2,>=7.1->gtts) (0.4.6)\n",
      "Requirement already satisfied: charset_normalizer<4,>=2 in c:\\users\\daniel espitia\\appdata\\local\\programs\\python\\python313\\lib\\site-packages (from requests<3,>=2.27->gtts) (3.4.2)\n",
      "Requirement already satisfied: idna<4,>=2.5 in c:\\users\\daniel espitia\\appdata\\local\\programs\\python\\python313\\lib\\site-packages (from requests<3,>=2.27->gtts) (3.10)\n",
      "Requirement already satisfied: urllib3<3,>=1.21.1 in c:\\users\\daniel espitia\\appdata\\local\\programs\\python\\python313\\lib\\site-packages (from requests<3,>=2.27->gtts) (2.5.0)\n",
      "Requirement already satisfied: certifi>=2017.4.17 in c:\\users\\daniel espitia\\appdata\\local\\programs\\python\\python313\\lib\\site-packages (from requests<3,>=2.27->gtts) (2025.6.15)\n",
      "Note: you may need to restart the kernel to use updated packages.\n"
     ]
    },
    {
     "name": "stderr",
     "output_type": "stream",
     "text": [
      "c:\\Users\\Daniel Espitia\\AppData\\Local\\Programs\\Python\\Python313\\Lib\\site-packages\\docxcompose\\properties.py:18: UserWarning: pkg_resources is deprecated as an API. See https://setuptools.pypa.io/en/latest/pkg_resources.html. The pkg_resources package is slated for removal as early as 2025-11-30. Refrain from using this package or pin to Setuptools<81.\n",
      "  import pkg_resources\n"
     ]
    }
   ],
   "source": [
    "%pip install gtts\n",
    "import pandas as pd\n",
    "from datetime import datetime\n",
    "from docxtpl import DocxTemplate\n",
    "from docx2pdf import convert\n",
    "from gtts import gTTS"
   ]
  },
  {
   "cell_type": "code",
   "execution_count": 3,
   "id": "8b0d0693",
   "metadata": {},
   "outputs": [
    {
     "name": "stdout",
     "output_type": "stream",
     "text": [
      "Requirement already satisfied: openpyxl in c:\\users\\daniel espitia\\appdata\\local\\programs\\python\\python313\\lib\\site-packages (3.1.5)\n",
      "Requirement already satisfied: et-xmlfile in c:\\users\\daniel espitia\\appdata\\local\\programs\\python\\python313\\lib\\site-packages (from openpyxl) (2.0.0)\n",
      "Note: you may need to restart the kernel to use updated packages.\n"
     ]
    },
    {
     "name": "stderr",
     "output_type": "stream",
     "text": [
      "\n",
      "[notice] A new release of pip is available: 25.0.1 -> 25.2\n",
      "[notice] To update, run: python.exe -m pip install --upgrade pip\n"
     ]
    },
    {
     "ename": "FileNotFoundError",
     "evalue": "[Errno 2] No such file or directory: 'alumnos con comentarios.xlsx'",
     "output_type": "error",
     "traceback": [
      "\u001b[31m---------------------------------------------------------------------------\u001b[39m",
      "\u001b[31mFileNotFoundError\u001b[39m                         Traceback (most recent call last)",
      "\u001b[36mCell\u001b[39m\u001b[36m \u001b[39m\u001b[32mIn[3]\u001b[39m\u001b[32m, line 2\u001b[39m\n\u001b[32m      1\u001b[39m get_ipython().run_line_magic(\u001b[33m'\u001b[39m\u001b[33mpip\u001b[39m\u001b[33m'\u001b[39m, \u001b[33m'\u001b[39m\u001b[33minstall openpyxl\u001b[39m\u001b[33m'\u001b[39m)\n\u001b[32m----> \u001b[39m\u001b[32m2\u001b[39m df = \u001b[43mpd\u001b[49m\u001b[43m.\u001b[49m\u001b[43mread_excel\u001b[49m\u001b[43m(\u001b[49m\u001b[33;43m\"\u001b[39;49m\u001b[33;43malumnos con comentarios.xlsx\u001b[39;49m\u001b[33;43m\"\u001b[39;49m\u001b[43m)\u001b[49m\n",
      "\u001b[36mFile \u001b[39m\u001b[32mc:\\Users\\Daniel Espitia\\AppData\\Local\\Programs\\Python\\Python313\\Lib\\site-packages\\pandas\\io\\excel\\_base.py:495\u001b[39m, in \u001b[36mread_excel\u001b[39m\u001b[34m(io, sheet_name, header, names, index_col, usecols, dtype, engine, converters, true_values, false_values, skiprows, nrows, na_values, keep_default_na, na_filter, verbose, parse_dates, date_parser, date_format, thousands, decimal, comment, skipfooter, storage_options, dtype_backend, engine_kwargs)\u001b[39m\n\u001b[32m    493\u001b[39m \u001b[38;5;28;01mif\u001b[39;00m \u001b[38;5;129;01mnot\u001b[39;00m \u001b[38;5;28misinstance\u001b[39m(io, ExcelFile):\n\u001b[32m    494\u001b[39m     should_close = \u001b[38;5;28;01mTrue\u001b[39;00m\n\u001b[32m--> \u001b[39m\u001b[32m495\u001b[39m     io = \u001b[43mExcelFile\u001b[49m\u001b[43m(\u001b[49m\n\u001b[32m    496\u001b[39m \u001b[43m        \u001b[49m\u001b[43mio\u001b[49m\u001b[43m,\u001b[49m\n\u001b[32m    497\u001b[39m \u001b[43m        \u001b[49m\u001b[43mstorage_options\u001b[49m\u001b[43m=\u001b[49m\u001b[43mstorage_options\u001b[49m\u001b[43m,\u001b[49m\n\u001b[32m    498\u001b[39m \u001b[43m        \u001b[49m\u001b[43mengine\u001b[49m\u001b[43m=\u001b[49m\u001b[43mengine\u001b[49m\u001b[43m,\u001b[49m\n\u001b[32m    499\u001b[39m \u001b[43m        \u001b[49m\u001b[43mengine_kwargs\u001b[49m\u001b[43m=\u001b[49m\u001b[43mengine_kwargs\u001b[49m\u001b[43m,\u001b[49m\n\u001b[32m    500\u001b[39m \u001b[43m    \u001b[49m\u001b[43m)\u001b[49m\n\u001b[32m    501\u001b[39m \u001b[38;5;28;01melif\u001b[39;00m engine \u001b[38;5;129;01mand\u001b[39;00m engine != io.engine:\n\u001b[32m    502\u001b[39m     \u001b[38;5;28;01mraise\u001b[39;00m \u001b[38;5;167;01mValueError\u001b[39;00m(\n\u001b[32m    503\u001b[39m         \u001b[33m\"\u001b[39m\u001b[33mEngine should not be specified when passing \u001b[39m\u001b[33m\"\u001b[39m\n\u001b[32m    504\u001b[39m         \u001b[33m\"\u001b[39m\u001b[33man ExcelFile - ExcelFile already has the engine set\u001b[39m\u001b[33m\"\u001b[39m\n\u001b[32m    505\u001b[39m     )\n",
      "\u001b[36mFile \u001b[39m\u001b[32mc:\\Users\\Daniel Espitia\\AppData\\Local\\Programs\\Python\\Python313\\Lib\\site-packages\\pandas\\io\\excel\\_base.py:1550\u001b[39m, in \u001b[36mExcelFile.__init__\u001b[39m\u001b[34m(self, path_or_buffer, engine, storage_options, engine_kwargs)\u001b[39m\n\u001b[32m   1548\u001b[39m     ext = \u001b[33m\"\u001b[39m\u001b[33mxls\u001b[39m\u001b[33m\"\u001b[39m\n\u001b[32m   1549\u001b[39m \u001b[38;5;28;01melse\u001b[39;00m:\n\u001b[32m-> \u001b[39m\u001b[32m1550\u001b[39m     ext = \u001b[43minspect_excel_format\u001b[49m\u001b[43m(\u001b[49m\n\u001b[32m   1551\u001b[39m \u001b[43m        \u001b[49m\u001b[43mcontent_or_path\u001b[49m\u001b[43m=\u001b[49m\u001b[43mpath_or_buffer\u001b[49m\u001b[43m,\u001b[49m\u001b[43m \u001b[49m\u001b[43mstorage_options\u001b[49m\u001b[43m=\u001b[49m\u001b[43mstorage_options\u001b[49m\n\u001b[32m   1552\u001b[39m \u001b[43m    \u001b[49m\u001b[43m)\u001b[49m\n\u001b[32m   1553\u001b[39m     \u001b[38;5;28;01mif\u001b[39;00m ext \u001b[38;5;129;01mis\u001b[39;00m \u001b[38;5;28;01mNone\u001b[39;00m:\n\u001b[32m   1554\u001b[39m         \u001b[38;5;28;01mraise\u001b[39;00m \u001b[38;5;167;01mValueError\u001b[39;00m(\n\u001b[32m   1555\u001b[39m             \u001b[33m\"\u001b[39m\u001b[33mExcel file format cannot be determined, you must specify \u001b[39m\u001b[33m\"\u001b[39m\n\u001b[32m   1556\u001b[39m             \u001b[33m\"\u001b[39m\u001b[33man engine manually.\u001b[39m\u001b[33m\"\u001b[39m\n\u001b[32m   1557\u001b[39m         )\n",
      "\u001b[36mFile \u001b[39m\u001b[32mc:\\Users\\Daniel Espitia\\AppData\\Local\\Programs\\Python\\Python313\\Lib\\site-packages\\pandas\\io\\excel\\_base.py:1402\u001b[39m, in \u001b[36minspect_excel_format\u001b[39m\u001b[34m(content_or_path, storage_options)\u001b[39m\n\u001b[32m   1399\u001b[39m \u001b[38;5;28;01mif\u001b[39;00m \u001b[38;5;28misinstance\u001b[39m(content_or_path, \u001b[38;5;28mbytes\u001b[39m):\n\u001b[32m   1400\u001b[39m     content_or_path = BytesIO(content_or_path)\n\u001b[32m-> \u001b[39m\u001b[32m1402\u001b[39m \u001b[38;5;28;01mwith\u001b[39;00m \u001b[43mget_handle\u001b[49m\u001b[43m(\u001b[49m\n\u001b[32m   1403\u001b[39m \u001b[43m    \u001b[49m\u001b[43mcontent_or_path\u001b[49m\u001b[43m,\u001b[49m\u001b[43m \u001b[49m\u001b[33;43m\"\u001b[39;49m\u001b[33;43mrb\u001b[39;49m\u001b[33;43m\"\u001b[39;49m\u001b[43m,\u001b[49m\u001b[43m \u001b[49m\u001b[43mstorage_options\u001b[49m\u001b[43m=\u001b[49m\u001b[43mstorage_options\u001b[49m\u001b[43m,\u001b[49m\u001b[43m \u001b[49m\u001b[43mis_text\u001b[49m\u001b[43m=\u001b[49m\u001b[38;5;28;43;01mFalse\u001b[39;49;00m\n\u001b[32m   1404\u001b[39m \u001b[43m\u001b[49m\u001b[43m)\u001b[49m \u001b[38;5;28;01mas\u001b[39;00m handle:\n\u001b[32m   1405\u001b[39m     stream = handle.handle\n\u001b[32m   1406\u001b[39m     stream.seek(\u001b[32m0\u001b[39m)\n",
      "\u001b[36mFile \u001b[39m\u001b[32mc:\\Users\\Daniel Espitia\\AppData\\Local\\Programs\\Python\\Python313\\Lib\\site-packages\\pandas\\io\\common.py:882\u001b[39m, in \u001b[36mget_handle\u001b[39m\u001b[34m(path_or_buf, mode, encoding, compression, memory_map, is_text, errors, storage_options)\u001b[39m\n\u001b[32m    873\u001b[39m         handle = \u001b[38;5;28mopen\u001b[39m(\n\u001b[32m    874\u001b[39m             handle,\n\u001b[32m    875\u001b[39m             ioargs.mode,\n\u001b[32m   (...)\u001b[39m\u001b[32m    878\u001b[39m             newline=\u001b[33m\"\u001b[39m\u001b[33m\"\u001b[39m,\n\u001b[32m    879\u001b[39m         )\n\u001b[32m    880\u001b[39m     \u001b[38;5;28;01melse\u001b[39;00m:\n\u001b[32m    881\u001b[39m         \u001b[38;5;66;03m# Binary mode\u001b[39;00m\n\u001b[32m--> \u001b[39m\u001b[32m882\u001b[39m         handle = \u001b[38;5;28;43mopen\u001b[39;49m\u001b[43m(\u001b[49m\u001b[43mhandle\u001b[49m\u001b[43m,\u001b[49m\u001b[43m \u001b[49m\u001b[43mioargs\u001b[49m\u001b[43m.\u001b[49m\u001b[43mmode\u001b[49m\u001b[43m)\u001b[49m\n\u001b[32m    883\u001b[39m     handles.append(handle)\n\u001b[32m    885\u001b[39m \u001b[38;5;66;03m# Convert BytesIO or file objects passed with an encoding\u001b[39;00m\n",
      "\u001b[31mFileNotFoundError\u001b[39m: [Errno 2] No such file or directory: 'alumnos con comentarios.xlsx'"
     ]
    }
   ],
   "source": [
    "%pip install openpyxl\n",
    "df = pd.read_excel(\"alumnos con comentarios.xlsx\")"
   ]
  },
  {
   "cell_type": "code",
   "execution_count": null,
   "id": "9638dac0",
   "metadata": {},
   "outputs": [
    {
     "data": {
      "text/html": [
       "<div>\n",
       "<style scoped>\n",
       "    .dataframe tbody tr th:only-of-type {\n",
       "        vertical-align: middle;\n",
       "    }\n",
       "\n",
       "    .dataframe tbody tr th {\n",
       "        vertical-align: top;\n",
       "    }\n",
       "\n",
       "    .dataframe thead th {\n",
       "        text-align: right;\n",
       "    }\n",
       "</style>\n",
       "<table border=\"1\" class=\"dataframe\">\n",
       "  <thead>\n",
       "    <tr style=\"text-align: right;\">\n",
       "      <th></th>\n",
       "      <th>Nombre del Estudiante</th>\n",
       "      <th>Matemáticas (Nota)</th>\n",
       "      <th>Matemáticas (Comentario)</th>\n",
       "      <th>Lenguaje (Nota)</th>\n",
       "      <th>Lenguaje (Comentario)</th>\n",
       "      <th>Ciencias (Nota)</th>\n",
       "      <th>Ciencias (Comentario)</th>\n",
       "      <th>Historia (Nota)</th>\n",
       "      <th>Historia (Comentario)</th>\n",
       "      <th>Asistencia</th>\n",
       "      <th>Observaciones Generales</th>\n",
       "    </tr>\n",
       "  </thead>\n",
       "  <tbody>\n",
       "    <tr>\n",
       "      <th>0</th>\n",
       "      <td>Sofía Castro</td>\n",
       "      <td>88 (B+)</td>\n",
       "      <td>Buena comprensión, a veces errores por descuido.</td>\n",
       "      <td>92 (A)</td>\n",
       "      <td>Excelente habilidad escritura creativa y compr...</td>\n",
       "      <td>85 (B)</td>\n",
       "      <td>Participa activamente en experimentos y muestr...</td>\n",
       "      <td>90 (A-)</td>\n",
       "      <td>Entusiasta con proyectos, a veces le falta pro...</td>\n",
       "      <td>0.98</td>\n",
       "      <td>Estudiante brillante y muy colaboradora.</td>\n",
       "    </tr>\n",
       "    <tr>\n",
       "      <th>1</th>\n",
       "      <td>Alejandro Rojas</td>\n",
       "      <td>75 (C+)</td>\n",
       "      <td>Necesita reforzar operaciones básicas y resolv...</td>\n",
       "      <td>80 (B-)</td>\n",
       "      <td>Buena lectura, pero le cuesta organizar ideas ...</td>\n",
       "      <td>70 (C)</td>\n",
       "      <td>Requiere más esfuerzo en el estudio de concept...</td>\n",
       "      <td>82 (B)</td>\n",
       "      <td>Muestra interés, pero necesita mejorar la entr...</td>\n",
       "      <td>0.93</td>\n",
       "      <td>Tiene potencial, pero se distrae con facilidad...</td>\n",
       "    </tr>\n",
       "    <tr>\n",
       "      <th>2</th>\n",
       "      <td>Valentina Méndez</td>\n",
       "      <td>95 (A+)</td>\n",
       "      <td>Destaca por su lógica y rapidez en resolución ...</td>\n",
       "      <td>90 (A-)</td>\n",
       "      <td>Excelente expresión oral y escrita.</td>\n",
       "      <td>93 (A)</td>\n",
       "      <td>Muy curiosa y proactiva en la investigación ci...</td>\n",
       "      <td>96 (A+)</td>\n",
       "      <td>Gran capacidad de análisis y memorización de e...</td>\n",
       "      <td>1.00</td>\n",
       "      <td>Estudiante ejemplar, con motivación y rendimie...</td>\n",
       "    </tr>\n",
       "    <tr>\n",
       "      <th>3</th>\n",
       "      <td>Gabriel Torres</td>\n",
       "      <td>68 (D+)</td>\n",
       "      <td>Le cuesta entender nuevos conceptos. Requiere ...</td>\n",
       "      <td>72 (C)</td>\n",
       "      <td>Necesita mejorar fluidez lectora y ortografía.</td>\n",
       "      <td>60 (D)</td>\n",
       "      <td>Poco interés y dificultad para seguir explicac...</td>\n",
       "      <td>65 (D)</td>\n",
       "      <td>Pocos trabajos entregados y bajo rendimiento e...</td>\n",
       "      <td>0.85</td>\n",
       "      <td>Necesita plan de mejora urgente. Falta de asis...</td>\n",
       "    </tr>\n",
       "    <tr>\n",
       "      <th>4</th>\n",
       "      <td>Isabella Gómez</td>\n",
       "      <td>80 (B-)</td>\n",
       "      <td>Comprende mayoría de temas, pero debe practica...</td>\n",
       "      <td>85 (B)</td>\n",
       "      <td>Buena capacidad expresión oral, mejorar estruc...</td>\n",
       "      <td>78 (C+)</td>\n",
       "      <td>Interesada, pero a veces se distrae en activid...</td>\n",
       "      <td>88 (B+)</td>\n",
       "      <td>Disfruta aprendiendo sobre el pasado y present...</td>\n",
       "      <td>0.95</td>\n",
       "      <td>Estudiante alegre y participativa. Con más enf...</td>\n",
       "    </tr>\n",
       "  </tbody>\n",
       "</table>\n",
       "</div>"
      ],
      "text/plain": [
       "  Nombre del Estudiante Matemáticas (Nota)  \\\n",
       "0          Sofía Castro            88 (B+)   \n",
       "1       Alejandro Rojas            75 (C+)   \n",
       "2      Valentina Méndez            95 (A+)   \n",
       "3        Gabriel Torres            68 (D+)   \n",
       "4        Isabella Gómez            80 (B-)   \n",
       "\n",
       "                            Matemáticas (Comentario) Lenguaje (Nota)  \\\n",
       "0   Buena comprensión, a veces errores por descuido.          92 (A)   \n",
       "1  Necesita reforzar operaciones básicas y resolv...         80 (B-)   \n",
       "2  Destaca por su lógica y rapidez en resolución ...         90 (A-)   \n",
       "3  Le cuesta entender nuevos conceptos. Requiere ...          72 (C)   \n",
       "4  Comprende mayoría de temas, pero debe practica...          85 (B)   \n",
       "\n",
       "                               Lenguaje (Comentario) Ciencias (Nota)  \\\n",
       "0  Excelente habilidad escritura creativa y compr...          85 (B)   \n",
       "1  Buena lectura, pero le cuesta organizar ideas ...          70 (C)   \n",
       "2                Excelente expresión oral y escrita.          93 (A)   \n",
       "3     Necesita mejorar fluidez lectora y ortografía.          60 (D)   \n",
       "4  Buena capacidad expresión oral, mejorar estruc...         78 (C+)   \n",
       "\n",
       "                               Ciencias (Comentario) Historia (Nota)  \\\n",
       "0  Participa activamente en experimentos y muestr...         90 (A-)   \n",
       "1  Requiere más esfuerzo en el estudio de concept...          82 (B)   \n",
       "2  Muy curiosa y proactiva en la investigación ci...         96 (A+)   \n",
       "3  Poco interés y dificultad para seguir explicac...          65 (D)   \n",
       "4  Interesada, pero a veces se distrae en activid...         88 (B+)   \n",
       "\n",
       "                               Historia (Comentario)  Asistencia  \\\n",
       "0  Entusiasta con proyectos, a veces le falta pro...        0.98   \n",
       "1  Muestra interés, pero necesita mejorar la entr...        0.93   \n",
       "2  Gran capacidad de análisis y memorización de e...        1.00   \n",
       "3  Pocos trabajos entregados y bajo rendimiento e...        0.85   \n",
       "4  Disfruta aprendiendo sobre el pasado y present...        0.95   \n",
       "\n",
       "                             Observaciones Generales  \n",
       "0           Estudiante brillante y muy colaboradora.  \n",
       "1  Tiene potencial, pero se distrae con facilidad...  \n",
       "2  Estudiante ejemplar, con motivación y rendimie...  \n",
       "3  Necesita plan de mejora urgente. Falta de asis...  \n",
       "4  Estudiante alegre y participativa. Con más enf...  "
      ]
     },
     "execution_count": 4,
     "metadata": {},
     "output_type": "execute_result"
    }
   ],
   "source": [
    "df"
   ]
  },
  {
   "cell_type": "code",
   "execution_count": null,
   "id": "aa5c29fb",
   "metadata": {},
   "outputs": [],
   "source": [
    "doc = DocxTemplate(\"alumnos con comentarios.docx\")"
   ]
  },
  {
   "cell_type": "code",
   "execution_count": null,
   "id": "a19f6d14",
   "metadata": {},
   "outputs": [],
   "source": [
    "for idx, row in df.iterrows():\n",
    "    context = {\n",
    "        \"nombre_del_estudiante\": row[\"Nombre del Estudiante\"],\n",
    "        \"matematicas_notas\": row[\"Matemáticas (Nota)\"],\n",
    "        \"matematicas_comentario\": row[\"Matemáticas (Comentario)\"],\n",
    "        \"lenguaje_notas\": row[\"Lenguaje (Nota)\"],\n",
    "        \"lenguaje_comentario\": row[\"Lenguaje (Comentario)\"],\n",
    "        \"ciencias_notas\": row[\"Ciencias (Nota)\"],\n",
    "        \"ciencias_comentario\": row[\"Ciencias (Comentario)\"],\n",
    "        \"historia_notas\": row[\"Historia (Nota)\"],\n",
    "        \"historia_comentario\": row[\"Historia (Comentario)\"],\n",
    "        \"asistencia\": row[\"Asistencia\"],\n",
    "        \"observaciones_generales\": row[\"Observaciones Generales\"],\n",
    "    }\n",
    "    doc.render(context) \n",
    "    nombre_archivo = f\"informe_{row['Nombre del Estudiante']}.docx\"\n",
    "    doc.save(nombre_archivo)"
   ]
  },
  {
   "cell_type": "code",
   "execution_count": null,
   "id": "e571f69e",
   "metadata": {},
   "outputs": [
    {
     "name": "stderr",
     "output_type": "stream",
     "text": [
      "100%|██████████| 1/1 [00:01<00:00,  1.90s/it]\n"
     ]
    }
   ],
   "source": [
    "convert(nombre_archivo)"
   ]
  },
  {
   "cell_type": "code",
   "execution_count": null,
   "id": "9eaa3895",
   "metadata": {},
   "outputs": [],
   "source": [
    "tts = gTTS('resumen', lang='es')\n",
    "\n",
    "tts.save(f\"resumen_{row['Nombre del Estudiante']}.mp3\")"
   ]
  }
 ],
 "metadata": {
  "kernelspec": {
   "display_name": "Python 3",
   "language": "python",
   "name": "python3"
  },
  "language_info": {
   "codemirror_mode": {
    "name": "ipython",
    "version": 3
   },
   "file_extension": ".py",
   "mimetype": "text/x-python",
   "name": "python",
   "nbconvert_exporter": "python",
   "pygments_lexer": "ipython3",
   "version": "3.13.2"
  }
 },
 "nbformat": 4,
 "nbformat_minor": 5
}
