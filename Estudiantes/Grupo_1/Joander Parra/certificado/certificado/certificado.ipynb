{
 "cells": [
  {
   "cell_type": "code",
   "execution_count": 11,
   "id": "b594d71c",
   "metadata": {},
   "outputs": [],
   "source": [
    "import pandas as pd\n",
    "from datetime import datetime\n",
    "from docxtpl import DocxTemplate"
   ]
  },
  {
   "cell_type": "code",
   "execution_count": 12,
   "id": "07e8dee5",
   "metadata": {},
   "outputs": [],
   "source": [
    "df = pd.read_excel(\"certificado.xlsx\")"
   ]
  },
  {
   "cell_type": "code",
   "execution_count": 13,
   "id": "642742cf",
   "metadata": {},
   "outputs": [],
   "source": [
    "nombre_curso = \"Curso de Python Básico\"\n",
    "firma_instructor = \"Joander Parra\"\n",
    "fecha_certificado = datetime.today().strftime(\"%d/%m/%Y\")"
   ]
  },
  {
   "cell_type": "code",
   "execution_count": 14,
   "id": "0a46f068",
   "metadata": {},
   "outputs": [],
   "source": [
    "plantilla = DocxTemplate(\"certificado.docx\")"
   ]
  },
  {
   "cell_type": "code",
   "execution_count": 15,
   "id": "c7c87cb7",
   "metadata": {},
   "outputs": [],
   "source": [
    "for idx, row in df.iterrows():\n",
    "    contexto = {\n",
    "        \"nombre_participante\": row[\"nombre\"],\n",
    "        \"nombre_curso\": nombre_curso,\n",
    "        \"fecha_certificado\": fecha_certificado,\n",
    "        \"firma_instructor\": firma_instructor\n",
    "    }\n",
    "    plantilla.render(contexto)\n",
    "    plantilla.save(f\"Certificado_{row['nombre']}.docx\")"
   ]
  }
 ],
 "metadata": {
  "kernelspec": {
   "display_name": "base",
   "language": "python",
   "name": "python3"
  },
  "language_info": {
   "codemirror_mode": {
    "name": "ipython",
    "version": 3
   },
   "file_extension": ".py",
   "mimetype": "text/x-python",
   "name": "python",
   "nbconvert_exporter": "python",
   "pygments_lexer": "ipython3",
   "version": "3.13.5"
  }
 },
 "nbformat": 4,
 "nbformat_minor": 5
}
