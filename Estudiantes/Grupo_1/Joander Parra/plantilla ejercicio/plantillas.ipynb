{
 "cells": [
  {
   "cell_type": "code",
   "execution_count": 10,
   "id": "fcb7edc0-550c-457e-8817-a1a511e2b484",
   "metadata": {},
   "outputs": [],
   "source": [
    "! pip install docxtpl -q"
   ]
  },
  {
   "cell_type": "code",
   "execution_count": null,
   "id": "b594d71c",
   "metadata": {},
   "outputs": [
    {
     "name": "stdout",
     "output_type": "stream",
     "text": [
      "Note: you may need to restart the kernel to use updated packages.\n"
     ]
    }
   ],
   "source": [
    "import pandas as pd\n",
    "from datetime import datetime\n",
    "%pip install docxtpl -q\n",
    "from docxtpl import DocxTemplate"
   ]
  },
  {
   "cell_type": "code",
   "execution_count": 11,
   "id": "07e8dee5",
   "metadata": {},
   "outputs": [],
   "source": [
    "doc = DocxTemplate(\"ejercicio1.docx\")"
   ]
  },
  {
   "cell_type": "code",
   "execution_count": 14,
   "id": "642742cf",
   "metadata": {},
   "outputs": [],
   "source": [
    "nombre_profesor = \"Joander Parra\"\n",
    "telefono_profesor = \"123456789\"\n",
    "correo_profesor = \"pjoander@gmail.com\"\n",
    "fecha_entrega = datetime.today().strftime(\"%d/%m/%Y\")"
   ]
  },
  {
   "cell_type": "code",
   "execution_count": 12,
   "id": "0a46f068",
   "metadata": {},
   "outputs": [
    {
     "name": "stdout",
     "output_type": "stream",
     "text": [
      "31/07/2025\n"
     ]
    }
   ],
   "source": [
    "print (fecha_entrega)"
   ]
  },
  {
   "cell_type": "code",
   "execution_count": 13,
   "id": "c7c87cb7",
   "metadata": {},
   "outputs": [],
   "source": [
    "datos_profesor = {\n",
    "    \"nombre_profesor\": nombre_profesor,\n",
    "    \"telefono_profesor\": telefono_profesor,\n",
    "    \"correo_profesor\": correo_profesor,\n",
    "    \"fecha_entrega\": fecha_entrega\n",
    "}"
   ]
  },
  {
   "cell_type": "code",
   "execution_count": 14,
   "id": "6826f406",
   "metadata": {},
   "outputs": [
    {
     "name": "stdout",
     "output_type": "stream",
     "text": [
      "{'nombre_profesor': 'Joander Parra', 'telefono_profesor': '123456789', 'correo_profesor': 'pjoander@gmail.com', 'fecha_entrega': '31/07/2025'}\n"
     ]
    }
   ],
   "source": [
    "print(datos_profesor)"
   ]
  },
  {
   "cell_type": "code",
   "execution_count": 15,
   "id": "9d20252d",
   "metadata": {},
   "outputs": [],
   "source": [
    "#doc.render(datos_profesor)\n",
    "#doc.save(\"ejercicio1_nuevo.docx\")"
   ]
  },
  {
   "cell_type": "code",
   "execution_count": 17,
   "id": "c8b7fa40",
   "metadata": {},
   "outputs": [
    {
     "name": "stdout",
     "output_type": "stream",
     "text": [
      "Note: you may need to restart the kernel to use updated packages.\n"
     ]
    }
   ],
   "source": [
    "%pip install openpyxl -q\n",
    "df =pd.read_excel(\"Book.xlsx\")"
   ]
  },
  {
   "cell_type": "code",
   "execution_count": 18,
   "id": "4f86fda3",
   "metadata": {},
   "outputs": [],
   "source": [
    "for index, row in df.iterrows():\n",
    "    datos_estudiante = {\n",
    "        \"nombre_estudiante\": row[\"nombre_estudiante\"],\n",
    "        \"pokemon\": row[\"pokemon\"],\n",
    "        \"poo\": row[\"poo\"],\n",
    "        \"jupyter\": row[\"jupyter\"],\n",
    "    }\n",
    "\n",
    "    doc.render({**datos_profesor, **datos_estudiante})\n",
    "    doc.save(f\"Entrega de notas - {row['nombre_estudiante']}.docx\")"
   ]
  }
 ],
 "metadata": {
  "kernelspec": {
   "display_name": "base",
   "language": "python",
   "name": "python3"
  },
  "language_info": {
   "codemirror_mode": {
    "name": "ipython",
    "version": 3
   },
   "file_extension": ".py",
   "mimetype": "text/x-python",
   "name": "python",
   "nbconvert_exporter": "python",
   "pygments_lexer": "ipython3",
   "version": "3.13.5"
  }
 },
 "nbformat": 4,
 "nbformat_minor": 5
}
