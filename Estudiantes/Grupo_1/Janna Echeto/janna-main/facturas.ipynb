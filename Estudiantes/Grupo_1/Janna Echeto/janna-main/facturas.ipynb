{
 "cells": [
  {
   "cell_type": "code",
   "execution_count": 1,
   "id": "8f49c647-acaf-4d7c-8189-c401abeb2c2b",
   "metadata": {},
   "outputs": [
    {
     "name": "stdout",
     "output_type": "stream",
     "text": [
      "Requirement already satisfied: pandas in c:\\users\\admid\\anaconda3\\lib\\site-packages (2.2.3)\n",
      "Requirement already satisfied: docxtpl in c:\\users\\admid\\anaconda3\\lib\\site-packages (0.20.1)\n",
      "Requirement already satisfied: openpyxl in c:\\users\\admid\\anaconda3\\lib\\site-packages (3.1.5)\n",
      "Requirement already satisfied: numpy>=1.26.0 in c:\\users\\admid\\anaconda3\\lib\\site-packages (from pandas) (2.1.3)\n",
      "Requirement already satisfied: python-dateutil>=2.8.2 in c:\\users\\admid\\anaconda3\\lib\\site-packages (from pandas) (2.9.0.post0)\n",
      "Requirement already satisfied: pytz>=2020.1 in c:\\users\\admid\\anaconda3\\lib\\site-packages (from pandas) (2024.1)\n",
      "Requirement already satisfied: tzdata>=2022.7 in c:\\users\\admid\\anaconda3\\lib\\site-packages (from pandas) (2025.2)\n",
      "Requirement already satisfied: python-docx>=1.1.1 in c:\\users\\admid\\anaconda3\\lib\\site-packages (from docxtpl) (1.2.0)\n",
      "Requirement already satisfied: docxcompose in c:\\users\\admid\\anaconda3\\lib\\site-packages (from docxtpl) (1.4.0)\n",
      "Requirement already satisfied: jinja2 in c:\\users\\admid\\anaconda3\\lib\\site-packages (from docxtpl) (3.1.6)\n",
      "Requirement already satisfied: lxml in c:\\users\\admid\\anaconda3\\lib\\site-packages (from docxtpl) (5.3.0)\n",
      "Requirement already satisfied: et-xmlfile in c:\\users\\admid\\anaconda3\\lib\\site-packages (from openpyxl) (1.1.0)\n",
      "Requirement already satisfied: six>=1.5 in c:\\users\\admid\\anaconda3\\lib\\site-packages (from python-dateutil>=2.8.2->pandas) (1.17.0)\n",
      "Requirement already satisfied: typing_extensions>=4.9.0 in c:\\users\\admid\\anaconda3\\lib\\site-packages (from python-docx>=1.1.1->docxtpl) (4.12.2)\n",
      "Requirement already satisfied: setuptools in c:\\users\\admid\\anaconda3\\lib\\site-packages (from docxcompose->docxtpl) (72.1.0)\n",
      "Requirement already satisfied: babel in c:\\users\\admid\\anaconda3\\lib\\site-packages (from docxcompose->docxtpl) (2.16.0)\n",
      "Requirement already satisfied: MarkupSafe>=2.0 in c:\\users\\admid\\anaconda3\\lib\\site-packages (from jinja2->docxtpl) (3.0.2)\n"
     ]
    }
   ],
   "source": [
    "!pip install pandas docxtpl openpyxl"
   ]
  },
  {
   "cell_type": "code",
   "execution_count": 6,
   "id": "0444ad7e-d43c-4146-a575-9d7789688f49",
   "metadata": {},
   "outputs": [
    {
     "name": "stdout",
     "output_type": "stream",
     "text": [
      "Factura generada para Ana Gómez: factura_Ana_Gómez.docx\n",
      "Factura generada para Juan Pérez: factura_Juan_Pérez.docx\n",
      "Factura generada para Luis Castro: factura_Luis_Castro.docx\n"
     ]
    }
   ],
   "source": [
    "import pandas as pd\n",
    "from docxtpl import DocxTemplate\n",
    "from datetime import date\n",
    "import os\n",
    "\n",
    "def generar_facturas(excel_path, template_path):\n",
    "    \"\"\"\n",
    "    Genera facturas en formato Word para cada cliente a partir de un archivo Excel.\n",
    "    \"\"\"\n",
    "    try:\n",
    "        df = pd.read_excel(excel_path)\n",
    "    except FileNotFoundError:\n",
    "        print(f\"Error: No se encontró el archivo '{excel_path}'.\")\n",
    "        return\n",
    "\n",
    " \n",
    "    clientes_agrupados = df.groupby('Cliente')\n",
    "    \n",
    "    try:\n",
    "        doc = DocxTemplate(template_path)\n",
    "    except FileNotFoundError:\n",
    "        print(f\"Error: No se encontró la plantilla de Word '{template_path}'.\")\n",
    "        return\n",
    "\n",
    "    fecha_emision = date.today().strftime(\"%d/%m/%Y\")\n",
    "    vendedor_info = \"Tu Nombre / Nombre de la Empresa\"\n",
    "\n",
    "    for cliente, datos_cliente in clientes_agrupados:\n",
    "        \n",
    "        productos_lista = []\n",
    "        total_factura = 0.0\n",
    "\n",
    "        for _, fila in datos_cliente.iterrows():\n",
    "            total_producto = fila['Cantidad'] * fila['Precio Unitario']\n",
    "            productos_lista.append({\n",
    "                'producto': fila['Producto'],\n",
    "                'cantidad': fila['Cantidad'],\n",
    "                'precio_unitario': f\"{fila['Precio Unitario']:.2f}\",\n",
    "                'total_producto': f\"{total_producto:.2f}\"\n",
    "            })\n",
    "            total_factura += total_producto\n",
    "            \n",
    "        context = {\n",
    "            'cliente': cliente,\n",
    "            'fecha': fecha_emision,\n",
    "            'vendedor': vendedor_info,\n",
    "            'productos': productos_lista,\n",
    "            'total_factura': f\"{total_factura:.2f}\"\n",
    "        }\n",
    "        \n",
    "        doc.render(context)\n",
    "        output_filename = f\"factura_{cliente.replace(' ', '_')}.docx\"\n",
    "        doc.save(output_filename)\n",
    "        \n",
    "        print(f\"Factura generada para {cliente}: {output_filename}\")\n",
    "\n",
    "\n",
    "excel_file = \"factura.xlsx\"\n",
    "word_template = \"factura text.docx\"  \n",
    "\n",
    "generar_facturas(excel_file, word_template)"
   ]
  },
  {
   "cell_type": "code",
   "execution_count": null,
   "id": "415fc7c6-bbc1-4290-86a2-b93c23b09ef7",
   "metadata": {},
   "outputs": [],
   "source": []
  }
 ],
 "metadata": {
  "kernelspec": {
   "display_name": "Python [conda env:base] *",
   "language": "python",
   "name": "conda-base-py"
  },
  "language_info": {
   "codemirror_mode": {
    "name": "ipython",
    "version": 3
   },
   "file_extension": ".py",
   "mimetype": "text/x-python",
   "name": "python",
   "nbconvert_exporter": "python",
   "pygments_lexer": "ipython3",
   "version": "3.13.5"
  }
 },
 "nbformat": 4,
 "nbformat_minor": 5
}
