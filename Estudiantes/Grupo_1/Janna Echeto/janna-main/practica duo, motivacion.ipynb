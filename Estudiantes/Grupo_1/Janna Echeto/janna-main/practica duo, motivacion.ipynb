{
 "cells": [
  {
   "cell_type": "code",
   "execution_count": 1,
   "id": "6947dded-9c53-48d2-8661-db7da9d28113",
   "metadata": {},
   "outputs": [
    {
     "name": "stdout",
     "output_type": "stream",
     "text": [
      "Requirement already satisfied: pandas in c:\\users\\admid\\anaconda3\\lib\\site-packages (2.2.3)\n",
      "Requirement already satisfied: docxtpl in c:\\users\\admid\\anaconda3\\lib\\site-packages (0.20.1)\n",
      "Requirement already satisfied: openpyxl in c:\\users\\admid\\anaconda3\\lib\\site-packages (3.1.5)\n",
      "Requirement already satisfied: docx2pdf in c:\\users\\admid\\anaconda3\\lib\\site-packages (0.1.8)\n",
      "Collecting gTTS\n",
      "  Downloading gTTS-2.5.4-py3-none-any.whl.metadata (4.1 kB)\n",
      "Requirement already satisfied: numpy>=1.26.0 in c:\\users\\admid\\anaconda3\\lib\\site-packages (from pandas) (2.1.3)\n",
      "Requirement already satisfied: python-dateutil>=2.8.2 in c:\\users\\admid\\anaconda3\\lib\\site-packages (from pandas) (2.9.0.post0)\n",
      "Requirement already satisfied: pytz>=2020.1 in c:\\users\\admid\\anaconda3\\lib\\site-packages (from pandas) (2024.1)\n",
      "Requirement already satisfied: tzdata>=2022.7 in c:\\users\\admid\\anaconda3\\lib\\site-packages (from pandas) (2025.2)\n",
      "Requirement already satisfied: python-docx>=1.1.1 in c:\\users\\admid\\anaconda3\\lib\\site-packages (from docxtpl) (1.2.0)\n",
      "Requirement already satisfied: docxcompose in c:\\users\\admid\\anaconda3\\lib\\site-packages (from docxtpl) (1.4.0)\n",
      "Requirement already satisfied: jinja2 in c:\\users\\admid\\anaconda3\\lib\\site-packages (from docxtpl) (3.1.6)\n",
      "Requirement already satisfied: lxml in c:\\users\\admid\\anaconda3\\lib\\site-packages (from docxtpl) (5.3.0)\n",
      "Requirement already satisfied: et-xmlfile in c:\\users\\admid\\anaconda3\\lib\\site-packages (from openpyxl) (1.1.0)\n",
      "Requirement already satisfied: pywin32>=227 in c:\\users\\admid\\anaconda3\\lib\\site-packages (from docx2pdf) (308)\n",
      "Requirement already satisfied: tqdm>=4.41.0 in c:\\users\\admid\\anaconda3\\lib\\site-packages (from docx2pdf) (4.67.1)\n",
      "Requirement already satisfied: requests<3,>=2.27 in c:\\users\\admid\\anaconda3\\lib\\site-packages (from gTTS) (2.32.3)\n",
      "Requirement already satisfied: click<8.2,>=7.1 in c:\\users\\admid\\anaconda3\\lib\\site-packages (from gTTS) (8.1.8)\n",
      "Requirement already satisfied: colorama in c:\\users\\admid\\anaconda3\\lib\\site-packages (from click<8.2,>=7.1->gTTS) (0.4.6)\n",
      "Requirement already satisfied: charset-normalizer<4,>=2 in c:\\users\\admid\\anaconda3\\lib\\site-packages (from requests<3,>=2.27->gTTS) (3.3.2)\n",
      "Requirement already satisfied: idna<4,>=2.5 in c:\\users\\admid\\anaconda3\\lib\\site-packages (from requests<3,>=2.27->gTTS) (3.7)\n",
      "Requirement already satisfied: urllib3<3,>=1.21.1 in c:\\users\\admid\\anaconda3\\lib\\site-packages (from requests<3,>=2.27->gTTS) (2.3.0)\n",
      "Requirement already satisfied: certifi>=2017.4.17 in c:\\users\\admid\\anaconda3\\lib\\site-packages (from requests<3,>=2.27->gTTS) (2025.7.14)\n",
      "Requirement already satisfied: six>=1.5 in c:\\users\\admid\\anaconda3\\lib\\site-packages (from python-dateutil>=2.8.2->pandas) (1.17.0)\n",
      "Requirement already satisfied: typing_extensions>=4.9.0 in c:\\users\\admid\\anaconda3\\lib\\site-packages (from python-docx>=1.1.1->docxtpl) (4.12.2)\n",
      "Requirement already satisfied: setuptools in c:\\users\\admid\\anaconda3\\lib\\site-packages (from docxcompose->docxtpl) (72.1.0)\n",
      "Requirement already satisfied: babel in c:\\users\\admid\\anaconda3\\lib\\site-packages (from docxcompose->docxtpl) (2.16.0)\n",
      "Requirement already satisfied: MarkupSafe>=2.0 in c:\\users\\admid\\anaconda3\\lib\\site-packages (from jinja2->docxtpl) (3.0.2)\n",
      "Downloading gTTS-2.5.4-py3-none-any.whl (29 kB)\n",
      "Installing collected packages: gTTS\n",
      "Successfully installed gTTS-2.5.4\n"
     ]
    }
   ],
   "source": [
    "!pip install pandas docxtpl openpyxl docx2pdf gTTS"
   ]
  },
  {
   "cell_type": "code",
   "execution_count": 3,
   "id": "63bc8f6d-fb82-4c4f-b4c3-d76d3c026036",
   "metadata": {},
   "outputs": [
    {
     "data": {
      "application/vnd.jupyter.widget-view+json": {
       "model_id": "73dccdc9b228476cac263455b8c77635",
       "version_major": 2,
       "version_minor": 0
      },
      "text/plain": [
       "  0%|          | 0/1 [00:00<?, ?it/s]"
      ]
     },
     "metadata": {},
     "output_type": "display_data"
    },
    {
     "name": "stdout",
     "output_type": "stream",
     "text": [
      "PDF generado para Ana López: carta_motivacional_Ana_López.pdf\n",
      "Audio generado para Ana López: audio_motivacional_Ana_López.mp3\n"
     ]
    },
    {
     "data": {
      "application/vnd.jupyter.widget-view+json": {
       "model_id": "2aafafb6ee954ba6bd53e3507e0dcdb4",
       "version_major": 2,
       "version_minor": 0
      },
      "text/plain": [
       "  0%|          | 0/1 [00:00<?, ?it/s]"
      ]
     },
     "metadata": {},
     "output_type": "display_data"
    },
    {
     "name": "stdout",
     "output_type": "stream",
     "text": [
      "PDF generado para Carlos Sánchez: carta_motivacional_Carlos_Sánchez.pdf\n",
      "Audio generado para Carlos Sánchez: audio_motivacional_Carlos_Sánchez.mp3\n"
     ]
    },
    {
     "data": {
      "application/vnd.jupyter.widget-view+json": {
       "model_id": "154b2c80a7ce4cce8a82dd82ac756cb2",
       "version_major": 2,
       "version_minor": 0
      },
      "text/plain": [
       "  0%|          | 0/1 [00:00<?, ?it/s]"
      ]
     },
     "metadata": {},
     "output_type": "display_data"
    },
    {
     "name": "stdout",
     "output_type": "stream",
     "text": [
      "PDF generado para María Rodríguez: carta_motivacional_María_Rodríguez.pdf\n",
      "Audio generado para María Rodríguez: audio_motivacional_María_Rodríguez.mp3\n"
     ]
    }
   ],
   "source": [
    "import pandas as pd\n",
    "from docxtpl import DocxTemplate\n",
    "from docx2pdf import convert\n",
    "from gtts import gTTS\n",
    "import os\n",
    "\n",
    "def generar_cartas_y_audio(excel_path, template_path):\n",
    "    \"\"\"\n",
    "    Genera cartas motivacionales en PDF y audio para cada estudiante.\n",
    "\n",
    "    Args:\n",
    "        excel_path (str): Ruta al archivo Excel con los datos de los estudiantes.\n",
    "        template_path (str): Ruta a la plantilla de Word.\n",
    "    \"\"\"\n",
    "   \n",
    "    try:\n",
    "        df = pd.read_excel(excel_path)\n",
    "    except FileNotFoundError:\n",
    "        print(f\"Error: No se encontró el archivo '{excel_path}'. Asegúrate de que esté en la misma carpeta.\")\n",
    "        return\n",
    "\n",
    "\n",
    "    try:\n",
    "        doc = DocxTemplate(template_path)\n",
    "    except FileNotFoundError:\n",
    "        print(f\"Error: No se encontró la plantilla de Word '{template_path}'.\")\n",
    "        return\n",
    "\n",
    "\n",
    "    for index, row in df.iterrows():\n",
    "        nombre = row['Nombre']\n",
    "        logros = row['Logros']\n",
    "        meta = row['Meta académica']\n",
    "\n",
    "\n",
    "        context = {\n",
    "            'nombre': nombre,\n",
    "            'logros': logros,\n",
    "            'meta': meta\n",
    "        }\n",
    "        \n",
    "        doc.render(context)\n",
    "        \n",
    "   \n",
    "        word_file_name = f\"carta_motivacional_{nombre.replace(' ', '_')}.docx\"\n",
    "        doc.save(word_file_name)\n",
    "        \n",
    "        \n",
    "        pdf_file_name = f\"carta_motivacional_{nombre.replace(' ', '_')}.pdf\"\n",
    "        try:\n",
    "            convert(word_file_name, pdf_file_name)\n",
    "            print(f\"PDF generado para {nombre}: {pdf_file_name}\")\n",
    "        except Exception as e:\n",
    "            print(f\"Error al convertir a PDF para {nombre}. Asegúrate de tener MS Word instalado: {e}\")\n",
    "\n",
    "        texto_carta = (\n",
    "            f\"Estimado/a {nombre}, Es con gran entusiasmo que te escribo esta carta motivacional. \"\n",
    "            f\"Tus destacados logros, entre los que se encuentran {logros}, son un claro indicativo de tu dedicación y talento. \"\n",
    "            f\"Tu meta académica de {meta} es ambiciosa y admirable, y estoy seguro/a de que con tu perseverancia la alcanzarás. \"\n",
    "            f\"Sigue adelante con tu esfuerzo y recuerda el potencial que posees. ¡Mucho éxito en tus futuros proyectos!\"\n",
    "        )\n",
    "        \n",
    "        audio_file_name = f\"audio_motivacional_{nombre.replace(' ', '_')}.mp3\"\n",
    "        try:\n",
    "            tts = gTTS(text=texto_carta, lang='es', slow=False)\n",
    "            tts.save(audio_file_name)\n",
    "            print(f\"Audio generado para {nombre}: {audio_file_name}\")\n",
    "        except Exception as e:\n",
    "            print(f\"Error al generar el audio para {nombre}. Asegúrate de tener conexión a internet: {e}\")\n",
    "        os.remove(word_file_name)\n",
    "\n",
    "excel_path = \"motivacion.xlsx\"\n",
    "template_path = \"motivacion mensaje.docx\"\n",
    "\n",
    "generar_cartas_y_audio(excel_path, template_path)"
   ]
  },
  {
   "cell_type": "code",
   "execution_count": null,
   "id": "eafdf66c-bd06-452a-a7c9-e74051604224",
   "metadata": {},
   "outputs": [],
   "source": []
  }
 ],
 "metadata": {
  "kernelspec": {
   "display_name": "Python [conda env:base] *",
   "language": "python",
   "name": "conda-base-py"
  },
  "language_info": {
   "codemirror_mode": {
    "name": "ipython",
    "version": 3
   },
   "file_extension": ".py",
   "mimetype": "text/x-python",
   "name": "python",
   "nbconvert_exporter": "python",
   "pygments_lexer": "ipython3",
   "version": "3.13.5"
  }
 },
 "nbformat": 4,
 "nbformat_minor": 5
}
