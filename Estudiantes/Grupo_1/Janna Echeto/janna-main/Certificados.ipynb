{
 "cells": [
  {
   "cell_type": "code",
   "execution_count": 2,
   "id": "059b3b9a-5d41-4fd6-8e88-e216b8c186d3",
   "metadata": {},
   "outputs": [
    {
     "name": "stdout",
     "output_type": "stream",
     "text": [
      "Requirement already satisfied: pandas in c:\\users\\admid\\anaconda3\\lib\\site-packages (2.2.3)\n",
      "Requirement already satisfied: docxtpl in c:\\users\\admid\\anaconda3\\lib\\site-packages (0.20.1)\n",
      "Requirement already satisfied: openpyxl in c:\\users\\admid\\anaconda3\\lib\\site-packages (3.1.5)\n",
      "Requirement already satisfied: numpy>=1.26.0 in c:\\users\\admid\\anaconda3\\lib\\site-packages (from pandas) (2.1.3)\n",
      "Requirement already satisfied: python-dateutil>=2.8.2 in c:\\users\\admid\\anaconda3\\lib\\site-packages (from pandas) (2.9.0.post0)\n",
      "Requirement already satisfied: pytz>=2020.1 in c:\\users\\admid\\anaconda3\\lib\\site-packages (from pandas) (2024.1)\n",
      "Requirement already satisfied: tzdata>=2022.7 in c:\\users\\admid\\anaconda3\\lib\\site-packages (from pandas) (2025.2)\n",
      "Requirement already satisfied: python-docx>=1.1.1 in c:\\users\\admid\\anaconda3\\lib\\site-packages (from docxtpl) (1.2.0)\n",
      "Requirement already satisfied: docxcompose in c:\\users\\admid\\anaconda3\\lib\\site-packages (from docxtpl) (1.4.0)\n",
      "Requirement already satisfied: jinja2 in c:\\users\\admid\\anaconda3\\lib\\site-packages (from docxtpl) (3.1.6)\n",
      "Requirement already satisfied: lxml in c:\\users\\admid\\anaconda3\\lib\\site-packages (from docxtpl) (5.3.0)\n",
      "Requirement already satisfied: et-xmlfile in c:\\users\\admid\\anaconda3\\lib\\site-packages (from openpyxl) (1.1.0)\n",
      "Requirement already satisfied: six>=1.5 in c:\\users\\admid\\anaconda3\\lib\\site-packages (from python-dateutil>=2.8.2->pandas) (1.17.0)\n",
      "Requirement already satisfied: typing_extensions>=4.9.0 in c:\\users\\admid\\anaconda3\\lib\\site-packages (from python-docx>=1.1.1->docxtpl) (4.12.2)\n",
      "Requirement already satisfied: setuptools in c:\\users\\admid\\anaconda3\\lib\\site-packages (from docxcompose->docxtpl) (72.1.0)\n",
      "Requirement already satisfied: babel in c:\\users\\admid\\anaconda3\\lib\\site-packages (from docxcompose->docxtpl) (2.16.0)\n",
      "Requirement already satisfied: MarkupSafe>=2.0 in c:\\users\\admid\\anaconda3\\lib\\site-packages (from jinja2->docxtpl) (3.0.2)\n"
     ]
    }
   ],
   "source": [
    "!pip install pandas docxtpl openpyxl"
   ]
  },
  {
   "cell_type": "code",
   "execution_count": 3,
   "id": "600b5dbf-4c89-4c86-8886-21c08e62d6ee",
   "metadata": {},
   "outputs": [
    {
     "name": "stdout",
     "output_type": "stream",
     "text": [
      "Certificado generado para Ana Martínez: Certificado_Ana_Martínez.docx\n",
      "Certificado generado para Luis Torres: Certificado_Luis_Torres.docx\n",
      "Certificado generado para Carla Gómez: Certificado_Carla_Gómez.docx\n"
     ]
    }
   ],
   "source": [
    "import pandas as pd\n",
    "from docxtpl import DocxTemplate\n",
    "from datetime import date\n",
    "import os\n",
    "\n",
    "def generar_certificados(excel_path, template_path):\n",
    "    \"\"\"\n",
    "    Genera certificados personalizados a partir de un archivo Excel y una plantilla de Word.\n",
    "    \"\"\"\n",
    "   \n",
    "    try:\n",
    "     \n",
    "        df = pd.read_excel(excel_path)\n",
    "    except FileNotFoundError:\n",
    "        print(f\"Error: No se encontró el archivo '{excel_path}'.\")\n",
    "        return\n",
    "\n",
    "  \n",
    "    firma_instructor = \"Juan Pérez\"\n",
    "    \n",
    "    fecha_emision = date.today().strftime(\"%d de %B de %Y\")\n",
    "\n",
    "   \n",
    "    try:\n",
    "       \n",
    "        doc = DocxTemplate(template_path)\n",
    "    except FileNotFoundError:\n",
    "        print(f\"Error: No se encontró la plantilla de Word '{template_path}'.\")\n",
    "        return\n",
    "\n",
    "    \n",
    "    for _, fila in df.iterrows():\n",
    "       \n",
    "        nombre_participante = fila['Nombre']\n",
    "        nombre_curso = fila['Nombre del Curso']\n",
    "        \n",
    "       \n",
    "        context = {\n",
    "            'nombre_participante': nombre_participante,\n",
    "            'nombre_curso': nombre_curso,\n",
    "            'fecha_certificado': fecha_emision,\n",
    "            'firma_instructor': firma_instructor\n",
    "        }\n",
    "      \n",
    "        doc.render(context)\n",
    "        \n",
    "        output_filename = f\"Certificado_{nombre_participante.replace(' ', '_')}.docx\"\n",
    "        doc.save(output_filename)\n",
    "        \n",
    "        print(f\"Certificado generado para {nombre_participante}: {output_filename}\")\n",
    "\n",
    "\n",
    "excel_file = \"certificados exel.xlsx\"\n",
    "word_template = \"Certificado de Participación.docx\"\n",
    "\n",
    "generar_certificados(excel_file, word_template)"
   ]
  },
  {
   "cell_type": "code",
   "execution_count": null,
   "id": "f04b3027-73db-4cd5-bd2a-8478add22374",
   "metadata": {},
   "outputs": [],
   "source": []
  }
 ],
 "metadata": {
  "kernelspec": {
   "display_name": "Python [conda env:base] *",
   "language": "python",
   "name": "conda-base-py"
  },
  "language_info": {
   "codemirror_mode": {
    "name": "ipython",
    "version": 3
   },
   "file_extension": ".py",
   "mimetype": "text/x-python",
   "name": "python",
   "nbconvert_exporter": "python",
   "pygments_lexer": "ipython3",
   "version": "3.13.5"
  }
 },
 "nbformat": 4,
 "nbformat_minor": 5
}
