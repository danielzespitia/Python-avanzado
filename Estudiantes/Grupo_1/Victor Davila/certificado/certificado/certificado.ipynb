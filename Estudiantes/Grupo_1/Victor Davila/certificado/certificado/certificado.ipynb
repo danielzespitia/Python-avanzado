{
 "cells": [
  {
   "cell_type": "code",
   "execution_count": 46,
   "id": "e0a92fe8",
   "metadata": {},
   "outputs": [
    {
     "name": "stderr",
     "output_type": "stream",
     "text": [
      "\n",
      "[notice] A new release of pip is available: 24.0 -> 25.1.1\n",
      "[notice] To update, run: C:\\Users\\victo\\AppData\\Local\\Microsoft\\WindowsApps\\PythonSoftwareFoundation.Python.3.11_qbz5n2kfra8p0\\python.exe -m pip install --upgrade pip\n"
     ]
    }
   ],
   "source": [
    "!pip install docxtpl -q"
   ]
  },
  {
   "cell_type": "code",
   "execution_count": 47,
   "id": "efb05d33",
   "metadata": {},
   "outputs": [],
   "source": [
    "import pandas as pd\n",
    "from datetime import datetime\n",
    "from docxtpl import DocxTemplate"
   ]
  },
  {
   "cell_type": "code",
   "execution_count": 48,
   "id": "49a3b338",
   "metadata": {},
   "outputs": [],
   "source": [
    "doc = DocxTemplate(\"Certificado platilla.docx\")"
   ]
  },
  {
   "cell_type": "code",
   "execution_count": 49,
   "id": "7a1dac7f",
   "metadata": {},
   "outputs": [],
   "source": [
    "nombre_curso = \"Programacion\"\n",
    "firma_instructor = \"Victor Hugo\""
   ]
  },
  {
   "cell_type": "code",
   "execution_count": 50,
   "id": "c6e5c76d",
   "metadata": {},
   "outputs": [],
   "source": [
    "constantes = {'nombre_curso':nombre_curso, 'firma_instructor':firma_instructor}"
   ]
  },
  {
   "cell_type": "code",
   "execution_count": 51,
   "id": "616ef1d9",
   "metadata": {},
   "outputs": [
    {
     "name": "stdout",
     "output_type": "stream",
     "text": [
      "{'nombre_curso': 'Programacion', 'firma_instructor': 'Victor Hugo'}\n"
     ]
    }
   ],
   "source": [
    "print(constantes)"
   ]
  },
  {
   "cell_type": "code",
   "execution_count": 52,
   "id": "71c48c66",
   "metadata": {},
   "outputs": [
    {
     "name": "stderr",
     "output_type": "stream",
     "text": [
      "\n",
      "[notice] A new release of pip is available: 24.0 -> 25.1.1\n",
      "[notice] To update, run: C:\\Users\\victo\\AppData\\Local\\Microsoft\\WindowsApps\\PythonSoftwareFoundation.Python.3.11_qbz5n2kfra8p0\\python.exe -m pip install --upgrade pip\n"
     ]
    }
   ],
   "source": [
    "!pip install openpyxl -q"
   ]
  },
  {
   "cell_type": "code",
   "execution_count": 53,
   "id": "3ab11d15",
   "metadata": {},
   "outputs": [],
   "source": [
    "df = pd.read_excel('Certificado plantilla.xlsx')"
   ]
  },
  {
   "cell_type": "code",
   "execution_count": 54,
   "id": "7bdbe3e6",
   "metadata": {},
   "outputs": [
    {
     "data": {
      "text/html": [
       "<div>\n",
       "<style scoped>\n",
       "    .dataframe tbody tr th:only-of-type {\n",
       "        vertical-align: middle;\n",
       "    }\n",
       "\n",
       "    .dataframe tbody tr th {\n",
       "        vertical-align: top;\n",
       "    }\n",
       "\n",
       "    .dataframe thead th {\n",
       "        text-align: right;\n",
       "    }\n",
       "</style>\n",
       "<table border=\"1\" class=\"dataframe\">\n",
       "  <thead>\n",
       "    <tr style=\"text-align: right;\">\n",
       "      <th></th>\n",
       "      <th>Nombres</th>\n",
       "      <th>correos electronicos</th>\n",
       "      <th>fechas de participación</th>\n",
       "    </tr>\n",
       "  </thead>\n",
       "  <tbody>\n",
       "    <tr>\n",
       "      <th>0</th>\n",
       "      <td>Janna Echeto</td>\n",
       "      <td>1@gmail.com</td>\n",
       "      <td>2024-11-05</td>\n",
       "    </tr>\n",
       "    <tr>\n",
       "      <th>1</th>\n",
       "      <td>Diego Ferrer</td>\n",
       "      <td>2@gmail.com</td>\n",
       "      <td>2024-12-02</td>\n",
       "    </tr>\n",
       "    <tr>\n",
       "      <th>2</th>\n",
       "      <td>Diego  Cardozo</td>\n",
       "      <td>3@gmail.com</td>\n",
       "      <td>2024-08-07</td>\n",
       "    </tr>\n",
       "    <tr>\n",
       "      <th>3</th>\n",
       "      <td>Gustavo Yanes</td>\n",
       "      <td>4@gmail.com</td>\n",
       "      <td>2024-09-04</td>\n",
       "    </tr>\n",
       "    <tr>\n",
       "      <th>4</th>\n",
       "      <td>Ramzi Richani</td>\n",
       "      <td>5@gmail.com</td>\n",
       "      <td>2024-06-21</td>\n",
       "    </tr>\n",
       "    <tr>\n",
       "      <th>5</th>\n",
       "      <td>Ronal Trujillo</td>\n",
       "      <td>6@gmail.com</td>\n",
       "      <td>2024-09-25</td>\n",
       "    </tr>\n",
       "    <tr>\n",
       "      <th>6</th>\n",
       "      <td>Neiker chirinos</td>\n",
       "      <td>7@gmail.com</td>\n",
       "      <td>2024-08-31</td>\n",
       "    </tr>\n",
       "    <tr>\n",
       "      <th>7</th>\n",
       "      <td>Yoander Parra</td>\n",
       "      <td>8@gmail.com</td>\n",
       "      <td>2024-02-02</td>\n",
       "    </tr>\n",
       "    <tr>\n",
       "      <th>8</th>\n",
       "      <td>Victor Davila</td>\n",
       "      <td>9@gmail.com</td>\n",
       "      <td>2024-07-24</td>\n",
       "    </tr>\n",
       "    <tr>\n",
       "      <th>9</th>\n",
       "      <td>Deicel Fernandez</td>\n",
       "      <td>10@gmail.com</td>\n",
       "      <td>2024-04-11</td>\n",
       "    </tr>\n",
       "    <tr>\n",
       "      <th>10</th>\n",
       "      <td>Keiler Bracho</td>\n",
       "      <td>11@gmail.com</td>\n",
       "      <td>2024-05-27</td>\n",
       "    </tr>\n",
       "    <tr>\n",
       "      <th>11</th>\n",
       "      <td>Alejandro Duran</td>\n",
       "      <td>12@gmail.com</td>\n",
       "      <td>2024-01-13</td>\n",
       "    </tr>\n",
       "  </tbody>\n",
       "</table>\n",
       "</div>"
      ],
      "text/plain": [
       "             Nombres correos electronicos fechas de participación\n",
       "0       Janna Echeto          1@gmail.com              2024-11-05\n",
       "1      Diego Ferrer           2@gmail.com              2024-12-02\n",
       "2     Diego  Cardozo          3@gmail.com              2024-08-07\n",
       "3      Gustavo Yanes          4@gmail.com              2024-09-04\n",
       "4      Ramzi Richani          5@gmail.com              2024-06-21\n",
       "5     Ronal Trujillo          6@gmail.com              2024-09-25\n",
       "6    Neiker chirinos          7@gmail.com              2024-08-31\n",
       "7      Yoander Parra          8@gmail.com              2024-02-02\n",
       "8      Victor Davila          9@gmail.com              2024-07-24\n",
       "9   Deicel Fernandez         10@gmail.com              2024-04-11\n",
       "10     Keiler Bracho         11@gmail.com              2024-05-27\n",
       "11   Alejandro Duran         12@gmail.com              2024-01-13"
      ]
     },
     "execution_count": 54,
     "metadata": {},
     "output_type": "execute_result"
    }
   ],
   "source": [
    "df"
   ]
  },
  {
   "cell_type": "code",
   "execution_count": 55,
   "id": "a8df65c0",
   "metadata": {},
   "outputs": [
    {
     "name": "stdout",
     "output_type": "stream",
     "text": [
      "{'nombre_participante': 'Janna Echeto', 'correo': '1@gmail.com', 'fecha_certificado': Timestamp('2024-11-05 00:00:00'), 'nombre_curso': 'Programacion', 'firma_instructor': 'Victor Hugo'}\n",
      "{'nombre_participante': 'Diego Ferrer ', 'correo': '2@gmail.com', 'fecha_certificado': Timestamp('2024-12-02 00:00:00'), 'nombre_curso': 'Programacion', 'firma_instructor': 'Victor Hugo'}\n",
      "{'nombre_participante': 'Diego  Cardozo', 'correo': '3@gmail.com', 'fecha_certificado': Timestamp('2024-08-07 00:00:00'), 'nombre_curso': 'Programacion', 'firma_instructor': 'Victor Hugo'}\n",
      "{'nombre_participante': 'Gustavo Yanes', 'correo': '4@gmail.com', 'fecha_certificado': Timestamp('2024-09-04 00:00:00'), 'nombre_curso': 'Programacion', 'firma_instructor': 'Victor Hugo'}\n",
      "{'nombre_participante': 'Ramzi Richani', 'correo': '5@gmail.com', 'fecha_certificado': Timestamp('2024-06-21 00:00:00'), 'nombre_curso': 'Programacion', 'firma_instructor': 'Victor Hugo'}\n",
      "{'nombre_participante': 'Ronal Trujillo', 'correo': '6@gmail.com', 'fecha_certificado': Timestamp('2024-09-25 00:00:00'), 'nombre_curso': 'Programacion', 'firma_instructor': 'Victor Hugo'}\n",
      "{'nombre_participante': 'Neiker chirinos', 'correo': '7@gmail.com', 'fecha_certificado': Timestamp('2024-08-31 00:00:00'), 'nombre_curso': 'Programacion', 'firma_instructor': 'Victor Hugo'}\n",
      "{'nombre_participante': 'Yoander Parra', 'correo': '8@gmail.com', 'fecha_certificado': Timestamp('2024-02-02 00:00:00'), 'nombre_curso': 'Programacion', 'firma_instructor': 'Victor Hugo'}\n",
      "{'nombre_participante': 'Victor Davila', 'correo': '9@gmail.com', 'fecha_certificado': Timestamp('2024-07-24 00:00:00'), 'nombre_curso': 'Programacion', 'firma_instructor': 'Victor Hugo'}\n",
      "{'nombre_participante': 'Deicel Fernandez', 'correo': '10@gmail.com', 'fecha_certificado': Timestamp('2024-04-11 00:00:00'), 'nombre_curso': 'Programacion', 'firma_instructor': 'Victor Hugo'}\n",
      "{'nombre_participante': 'Keiler Bracho', 'correo': '11@gmail.com', 'fecha_certificado': Timestamp('2024-05-27 00:00:00'), 'nombre_curso': 'Programacion', 'firma_instructor': 'Victor Hugo'}\n",
      "{'nombre_participante': 'Alejandro Duran', 'correo': '12@gmail.com', 'fecha_certificado': Timestamp('2024-01-13 00:00:00'), 'nombre_curso': 'Programacion', 'firma_instructor': 'Victor Hugo'}\n"
     ]
    }
   ],
   "source": [
    "for indice, fila in df.iterrows():\n",
    "    contenido = {\n",
    "        'nombre_participante':fila[\"Nombres\"],\n",
    "        'correo':fila['correos electronicos'],\n",
    "        'fecha_certificado':fila['fechas de participación']\n",
    "        }\n",
    "    contenido.update(constantes)\n",
    "\n",
    "    doc.render(contenido)\n",
    "    doc.save(f\"certificado de {fila['Nombres']}.docx\")\n",
    "\n",
    "    print(contenido)"
   ]
  }
 ],
 "metadata": {
  "kernelspec": {
   "display_name": "Python 3",
   "language": "python",
   "name": "python3"
  },
  "language_info": {
   "codemirror_mode": {
    "name": "ipython",
    "version": 3
   },
   "file_extension": ".py",
   "mimetype": "text/x-python",
   "name": "python",
   "nbconvert_exporter": "python",
   "pygments_lexer": "ipython3",
   "version": "3.11.9"
  }
 },
 "nbformat": 4,
 "nbformat_minor": 5
}
