{
 "cells": [
  {
   "cell_type": "code",
   "execution_count": 18,
   "id": "819e898a",
   "metadata": {},
   "outputs": [
    {
     "name": "stderr",
     "output_type": "stream",
     "text": [
      "\n",
      "[notice] A new release of pip is available: 24.0 -> 25.1.1\n",
      "[notice] To update, run: C:\\Users\\victo\\AppData\\Local\\Microsoft\\WindowsApps\\PythonSoftwareFoundation.Python.3.11_qbz5n2kfra8p0\\python.exe -m pip install --upgrade pip\n"
     ]
    }
   ],
   "source": [
    "!pip install docxtpl -q"
   ]
  },
  {
   "cell_type": "code",
   "execution_count": 19,
   "id": "9b41afdd",
   "metadata": {},
   "outputs": [],
   "source": [
    "import pandas as pd\n",
    "from docxtpl import DocxTemplate"
   ]
  },
  {
   "cell_type": "code",
   "execution_count": null,
   "id": "eeed5450",
   "metadata": {},
   "outputs": [],
   "source": [
    "doc = DocxTemplate(\"reconocimiento empleado del mes.docx\")"
   ]
  },
  {
   "cell_type": "code",
   "execution_count": 21,
   "id": "7882390c",
   "metadata": {},
   "outputs": [
    {
     "name": "stderr",
     "output_type": "stream",
     "text": [
      "\n",
      "[notice] A new release of pip is available: 24.0 -> 25.1.1\n",
      "[notice] To update, run: C:\\Users\\victo\\AppData\\Local\\Microsoft\\WindowsApps\\PythonSoftwareFoundation.Python.3.11_qbz5n2kfra8p0\\python.exe -m pip install --upgrade pip\n"
     ]
    }
   ],
   "source": [
    "!pip install openpyxl -q"
   ]
  },
  {
   "cell_type": "code",
   "execution_count": 35,
   "id": "806b6e13",
   "metadata": {},
   "outputs": [],
   "source": [
    "df = pd.read_excel('Empleados del mes.xlsx')"
   ]
  },
  {
   "cell_type": "code",
   "execution_count": 36,
   "id": "89cefe45",
   "metadata": {},
   "outputs": [
    {
     "data": {
      "text/html": [
       "<div>\n",
       "<style scoped>\n",
       "    .dataframe tbody tr th:only-of-type {\n",
       "        vertical-align: middle;\n",
       "    }\n",
       "\n",
       "    .dataframe tbody tr th {\n",
       "        vertical-align: top;\n",
       "    }\n",
       "\n",
       "    .dataframe thead th {\n",
       "        text-align: right;\n",
       "    }\n",
       "</style>\n",
       "<table border=\"1\" class=\"dataframe\">\n",
       "  <thead>\n",
       "    <tr style=\"text-align: right;\">\n",
       "      <th></th>\n",
       "      <th>Nombres de Empleados</th>\n",
       "      <th>Horas_de_trabajo_en_el_mes</th>\n",
       "      <th>Clientes_atendidos</th>\n",
       "    </tr>\n",
       "  </thead>\n",
       "  <tbody>\n",
       "    <tr>\n",
       "      <th>0</th>\n",
       "      <td>Victor Davila</td>\n",
       "      <td>240hrs.</td>\n",
       "      <td>19</td>\n",
       "    </tr>\n",
       "    <tr>\n",
       "      <th>1</th>\n",
       "      <td>Ronald Trujillo</td>\n",
       "      <td>230hrs.</td>\n",
       "      <td>16</td>\n",
       "    </tr>\n",
       "    <tr>\n",
       "      <th>2</th>\n",
       "      <td>Daniel Espitia</td>\n",
       "      <td>225hrs.</td>\n",
       "      <td>13</td>\n",
       "    </tr>\n",
       "    <tr>\n",
       "      <th>3</th>\n",
       "      <td>Oscar Cachon</td>\n",
       "      <td>235hrs.</td>\n",
       "      <td>18</td>\n",
       "    </tr>\n",
       "    <tr>\n",
       "      <th>4</th>\n",
       "      <td>Son Goku</td>\n",
       "      <td>245hrs.</td>\n",
       "      <td>25</td>\n",
       "    </tr>\n",
       "    <tr>\n",
       "      <th>5</th>\n",
       "      <td>Naruto Uzumaki</td>\n",
       "      <td>243hrs.</td>\n",
       "      <td>20</td>\n",
       "    </tr>\n",
       "  </tbody>\n",
       "</table>\n",
       "</div>"
      ],
      "text/plain": [
       "  Nombres de Empleados Horas_de_trabajo_en_el_mes  Clientes_atendidos\n",
       "0        Victor Davila                    240hrs.                  19\n",
       "1      Ronald Trujillo                    230hrs.                  16\n",
       "2       Daniel Espitia                    225hrs.                  13\n",
       "3         Oscar Cachon                    235hrs.                  18\n",
       "4             Son Goku                    245hrs.                  25\n",
       "5       Naruto Uzumaki                    243hrs.                  20"
      ]
     },
     "execution_count": 36,
     "metadata": {},
     "output_type": "execute_result"
    }
   ],
   "source": [
    "df"
   ]
  },
  {
   "cell_type": "markdown",
   "id": "63e0a634",
   "metadata": {},
   "source": []
  },
  {
   "cell_type": "code",
   "execution_count": 43,
   "id": "9c140c00",
   "metadata": {},
   "outputs": [
    {
     "name": "stdout",
     "output_type": "stream",
     "text": [
      "{'Nombres_de_empleados': 'Victor Davila', 'Horas_de_trabajo_en_el_mes': '240hrs.', 'Clientes_atendidos': 19}\n",
      "{'Nombres_de_empleados': 'Ronald Trujillo', 'Horas_de_trabajo_en_el_mes': '230hrs.', 'Clientes_atendidos': 16}\n",
      "{'Nombres_de_empleados': 'Daniel Espitia', 'Horas_de_trabajo_en_el_mes': '225hrs.', 'Clientes_atendidos': 13}\n",
      "{'Nombres_de_empleados': 'Oscar Cachon', 'Horas_de_trabajo_en_el_mes': '235hrs.', 'Clientes_atendidos': 18}\n",
      "{'Nombres_de_empleados': 'Son Goku', 'Horas_de_trabajo_en_el_mes': '245hrs.', 'Clientes_atendidos': 25}\n",
      "{'Nombres_de_empleados': 'Naruto Uzumaki', 'Horas_de_trabajo_en_el_mes': '243hrs.', 'Clientes_atendidos': 20}\n"
     ]
    }
   ],
   "source": [
    "for indice, fila in df.iterrows():\n",
    "    contenido = {\n",
    "        'Nombres_de_empleados': fila[\"Nombres de Empleados\"],\n",
    "        'Horas_de_trabajo_en_el_mes': fila['Horas_de_trabajo_en_el_mes'],\n",
    "        'Clientes_atendidos': fila['Clientes_atendidos']\n",
    "    }\n",
    "\n",
    "    doc.render(contenido)\n",
    "    doc.save(f\"empleado {fila['Nombres de Empleados']}.docx\")\n",
    "\n",
    "    print(contenido)"
   ]
  },
  {
   "cell_type": "code",
   "execution_count": null,
   "id": "6ce9f034",
   "metadata": {},
   "outputs": [],
   "source": [
    "'''\n",
    "🏆 4. Reconocimiento a empleados del mes\n",
    "\n",
    "Instrucciones:\n",
    "- Carga un Excel con métricas de desempeño.\n",
    "- Genera un diploma en Word para los mejores empleados.\n",
    "- Incluye nombre, logro destacado y firma del gerente.\n",
    "\n",
    "Requerimientos:\n",
    "- pandas, docxtpl, openpyxl\n",
    "- Plantilla Word tipo diploma '''"
   ]
  }
 ],
 "metadata": {
  "kernelspec": {
   "display_name": "Python 3",
   "language": "python",
   "name": "python3"
  },
  "language_info": {
   "codemirror_mode": {
    "name": "ipython",
    "version": 3
   },
   "file_extension": ".py",
   "mimetype": "text/x-python",
   "name": "python",
   "nbconvert_exporter": "python",
   "pygments_lexer": "ipython3",
   "version": "3.11.9"
  }
 },
 "nbformat": 4,
 "nbformat_minor": 5
}
