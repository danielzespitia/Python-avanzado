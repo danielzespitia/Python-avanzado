{
 "cells": [
  {
   "cell_type": "code",
   "execution_count": 2,
   "id": "338af6b3-fa56-4a7c-9769-e0525e115ee3",
   "metadata": {},
   "outputs": [
    {
     "name": "stderr",
     "output_type": "stream",
     "text": [
      "\n",
      "[notice] A new release of pip is available: 25.0.1 -> 25.1.1\n",
      "[notice] To update, run: python.exe -m pip install --upgrade pip\n"
     ]
    }
   ],
   "source": [
    "! pip install docxtpl -q"
   ]
  },
  {
   "cell_type": "code",
   "execution_count": 3,
   "id": "bc2da5cf",
   "metadata": {},
   "outputs": [
    {
     "name": "stderr",
     "output_type": "stream",
     "text": [
      "c:\\Users\\Daniel Espitia\\AppData\\Local\\Programs\\Python\\Python313\\Lib\\site-packages\\docxcompose\\properties.py:18: UserWarning: pkg_resources is deprecated as an API. See https://setuptools.pypa.io/en/latest/pkg_resources.html. The pkg_resources package is slated for removal as early as 2025-11-30. Refrain from using this package or pin to Setuptools<81.\n",
      "  import pkg_resources\n"
     ]
    }
   ],
   "source": [
    "import pandas as pd\n",
    "from datetime import datetime\n",
    "from docxtpl import DocxTemplate"
   ]
  },
  {
   "cell_type": "code",
   "execution_count": 4,
   "id": "b8225814",
   "metadata": {},
   "outputs": [],
   "source": [
    "doc = DocxTemplate(\"Ejercicio 1.docx\")"
   ]
  },
  {
   "cell_type": "code",
   "execution_count": 5,
   "id": "791f1527",
   "metadata": {},
   "outputs": [],
   "source": [
    "nombre_profesor = \"Daniel Espitia\"\n",
    "telefono_profesor = \"0412-099-3229\"\n",
    "correo_profesor = \"daniel.z.espitia@gmail.com\"\n",
    "fecha_entrega = datetime.today().strftime(\"%d/%m/%Y\")"
   ]
  },
  {
   "cell_type": "code",
   "execution_count": 6,
   "id": "934cbd81",
   "metadata": {},
   "outputs": [
    {
     "name": "stdout",
     "output_type": "stream",
     "text": [
      "30/07/2025\n"
     ]
    }
   ],
   "source": [
    "print(fecha_entrega)"
   ]
  },
  {
   "cell_type": "code",
   "execution_count": 7,
   "id": "1b1da54d",
   "metadata": {},
   "outputs": [],
   "source": [
    "datos_profesor = {\n",
    "    \"nombre_profesor\": nombre_profesor,\n",
    "    \"telefono_profesor\": telefono_profesor,\n",
    "    \"correo_profesor\": correo_profesor,\n",
    "    \"fecha_entrega\": fecha_entrega\n",
    "}"
   ]
  },
  {
   "cell_type": "code",
   "execution_count": 8,
   "id": "96cbeea0",
   "metadata": {},
   "outputs": [
    {
     "name": "stdout",
     "output_type": "stream",
     "text": [
      "{'nombre_profesor': 'Daniel Espitia', 'telefono_profesor': '0412-099-3229', 'correo_profesor': 'daniel.z.espitia@gmail.com', 'fecha_entrega': '30/07/2025'}\n"
     ]
    }
   ],
   "source": [
    "print(datos_profesor)"
   ]
  },
  {
   "cell_type": "code",
   "execution_count": 9,
   "id": "b4a93784",
   "metadata": {},
   "outputs": [],
   "source": [
    "# doc.render(datos_profesor)\n",
    "# doc.save(f\"Entrega de notas.docx\")"
   ]
  },
  {
   "cell_type": "code",
   "execution_count": 10,
   "id": "3ece3a11",
   "metadata": {},
   "outputs": [
    {
     "name": "stdout",
     "output_type": "stream",
     "text": [
      "Requirement already satisfied: openpyxl in c:\\users\\daniel espitia\\appdata\\local\\programs\\python\\python313\\lib\\site-packages (3.1.5)\n",
      "Requirement already satisfied: et-xmlfile in c:\\users\\daniel espitia\\appdata\\local\\programs\\python\\python313\\lib\\site-packages (from openpyxl) (2.0.0)\n",
      "Note: you may need to restart the kernel to use updated packages.\n"
     ]
    },
    {
     "name": "stderr",
     "output_type": "stream",
     "text": [
      "\n",
      "[notice] A new release of pip is available: 25.0.1 -> 25.1.1\n",
      "[notice] To update, run: python.exe -m pip install --upgrade pip\n"
     ]
    }
   ],
   "source": [
    "%pip install openpyxl\n",
    "df = pd.read_excel(\"Ejercicio 1.xlsx\")"
   ]
  },
  {
   "cell_type": "code",
   "execution_count": 11,
   "id": "28f5140f",
   "metadata": {},
   "outputs": [
    {
     "data": {
      "text/html": [
       "<div>\n",
       "<style scoped>\n",
       "    .dataframe tbody tr th:only-of-type {\n",
       "        vertical-align: middle;\n",
       "    }\n",
       "\n",
       "    .dataframe tbody tr th {\n",
       "        vertical-align: top;\n",
       "    }\n",
       "\n",
       "    .dataframe thead th {\n",
       "        text-align: right;\n",
       "    }\n",
       "</style>\n",
       "<table border=\"1\" class=\"dataframe\">\n",
       "  <thead>\n",
       "    <tr style=\"text-align: right;\">\n",
       "      <th></th>\n",
       "      <th>Nombre del alumno</th>\n",
       "      <th>Carrito</th>\n",
       "      <th>Historia</th>\n",
       "      <th>Examen1</th>\n",
       "      <th>correo_electronico</th>\n",
       "    </tr>\n",
       "  </thead>\n",
       "  <tbody>\n",
       "    <tr>\n",
       "      <th>0</th>\n",
       "      <td>Daniel Espitia</td>\n",
       "      <td>17</td>\n",
       "      <td>17</td>\n",
       "      <td>20</td>\n",
       "      <td>zeniff.espitia@gmail.com</td>\n",
       "    </tr>\n",
       "    <tr>\n",
       "      <th>1</th>\n",
       "      <td>Ana Gutierrez</td>\n",
       "      <td>18</td>\n",
       "      <td>14</td>\n",
       "      <td>19</td>\n",
       "      <td>danielzespitiar@gmail.com</td>\n",
       "    </tr>\n",
       "  </tbody>\n",
       "</table>\n",
       "</div>"
      ],
      "text/plain": [
       "  Nombre del alumno  Carrito  Historia  Examen1         correo_electronico\n",
       "0    Daniel Espitia       17        17       20   zeniff.espitia@gmail.com\n",
       "1     Ana Gutierrez       18        14       19  danielzespitiar@gmail.com"
      ]
     },
     "execution_count": 11,
     "metadata": {},
     "output_type": "execute_result"
    }
   ],
   "source": [
    "df"
   ]
  },
  {
   "cell_type": "code",
   "execution_count": 12,
   "id": "fde2670c",
   "metadata": {},
   "outputs": [],
   "source": [
    "for index, row in df.iterrows():\n",
    "    datos_estudiante = {\n",
    "        \"nombre_estudiante\": row[\"Nombre del alumno\"],\n",
    "        \"carrito\": row[\"Carrito\"],\n",
    "        \"historia\": row[\"Historia\"],\n",
    "        \"examen1\": row[\"Examen1\"],\n",
    "        \"correo_electronico\": row[\"correo_electronico\"],\n",
    "    }\n",
    "    \n",
    "    doc.render({**datos_profesor, **datos_estudiante})\n",
    "    doc.save(f\"Entrega de notas - {row['Nombre del alumno']}.docx\")    "
   ]
  }
 ],
 "metadata": {
  "kernelspec": {
   "display_name": "Python 3",
   "language": "python",
   "name": "python3"
  },
  "language_info": {
   "codemirror_mode": {
    "name": "ipython",
    "version": 3
   },
   "file_extension": ".py",
   "mimetype": "text/x-python",
   "name": "python",
   "nbconvert_exporter": "python",
   "pygments_lexer": "ipython3",
   "version": "3.13.2"
  }
 },
 "nbformat": 4,
 "nbformat_minor": 5
}
